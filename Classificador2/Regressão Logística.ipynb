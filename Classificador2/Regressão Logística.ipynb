{
 "cells": [
  {
   "cell_type": "markdown",
   "metadata": {},
   "source": [
    "Imports"
   ]
  },
  {
   "cell_type": "code",
   "execution_count": 2,
   "metadata": {},
   "outputs": [],
   "source": [
    "import pandas as pd\n",
    "from matplotlib import pyplot as plt\n",
    "\n",
    "# Treino e Teste\n",
    "from sklearn.model_selection import train_test_split as tts\n",
    "\n",
    "# Logística\n",
    "from sklearn.linear_model import LogisticRegression\n",
    "\n",
    "# Matriz\n",
    "from sklearn.metrics import *\n",
    "\n",
    "%matplotlib inline"
   ]
  },
  {
   "cell_type": "markdown",
   "metadata": {},
   "source": [
    "Data"
   ]
  },
  {
   "cell_type": "code",
   "execution_count": 3,
   "metadata": {},
   "outputs": [],
   "source": [
    "zoo = pd.read_csv(\".\\Data\\zoo.csv\")                         # importando nosso dataset;\n",
    "inputs = zoo.drop(columns=[\"class_type\",\"animal_name\"])     # características dos animais para o teste;\n",
    "target = zoo[\"class_type\"]                                  # resultado esperado;"
   ]
  },
  {
   "cell_type": "markdown",
   "metadata": {},
   "source": [
    "## Colocar na funçoes"
   ]
  },
  {
   "cell_type": "code",
   "execution_count": 20,
   "metadata": {},
   "outputs": [],
   "source": [
    "X_treino,X_teste,Y_treino,Y_teste=tts(inputs,target,test_size=0.9)"
   ]
  },
  {
   "cell_type": "code",
   "execution_count": 21,
   "metadata": {},
   "outputs": [],
   "source": [
    "model = LogisticRegression(solver='lbfgs',multi_class='auto')"
   ]
  },
  {
   "cell_type": "code",
   "execution_count": 22,
   "metadata": {},
   "outputs": [],
   "source": [
    "model.fit(X_treino,Y_treino)\n",
    "Y_predict=model.predict(X_teste)"
   ]
  },
  {
   "cell_type": "code",
   "execution_count": 6,
   "metadata": {},
   "outputs": [
    {
     "data": {
      "text/plain": [
       "array([[54,  0,  0,  0,  0,  0,  0],\n",
       "       [ 0, 36,  2,  0,  0,  0,  0],\n",
       "       [ 0,  0, 19,  1,  0,  0,  0],\n",
       "       [ 0,  0,  0, 25,  0,  0,  0],\n",
       "       [ 0,  0, 16,  0,  0,  0,  0],\n",
       "       [ 0,  0,  0,  0,  0, 21,  0],\n",
       "       [ 0,  0,  0,  4,  0, 10,  5]], dtype=int64)"
      ]
     },
     "execution_count": 6,
     "metadata": {},
     "output_type": "execute_result"
    }
   ],
   "source": [
    "cm = confusion_matrix(Y_teste,Y_predict)\n",
    "cm"
   ]
  },
  {
   "cell_type": "code",
   "execution_count": 7,
   "metadata": {},
   "outputs": [
    {
     "data": {
      "text/plain": [
       "array(['Mammal', 'Bird', 'Reptile', 'Fish', 'Anphibian', 'Bug',\n",
       "       'Invertebrate'], dtype='<U12')"
      ]
     },
     "execution_count": 7,
     "metadata": {},
     "output_type": "execute_result"
    }
   ],
   "source": [
    "import array\n",
    "a=[0,1,2,3,4,5,6]\n",
    "c=[\"Mammal\",\"Bird\",\"Reptile\",\"Fish\",\"Anphibian\",\"Bug\",\"Invertebrate\"]\n",
    "Classification = {\"Mammal\":1, \"Bird\":2, \"Reptile\":3, \"Fish\":4, \"Anphibian\":5, \"Bug\":6, \"Invertebrate\":7}\n",
    "import numpy as np\n",
    "c=np.array(c)\n",
    "c"
   ]
  },
  {
   "cell_type": "code",
   "execution_count": 8,
   "metadata": {},
   "outputs": [
    {
     "data": {
      "image/png": "[encoded data removed]",
      "text/plain": [
       "<Figure size 720x720 with 2 Axes>"
      ]
     },
     "metadata": {
      "needs_background": "light"
     },
     "output_type": "display_data"
    }
   ],
   "source": [
    "import seaborn as sn\n",
    "plt.figure(figsize=(10,10))\n",
    "sn.heatmap(cm,annot=True)\n",
    "plt.ylabel(\"Valor Real\")\n",
    "plt.xlabel(\"Previsão\")\n",
    "plt.show;"
   ]
  },
  {
   "cell_type": "code",
   "execution_count": 9,
   "metadata": {},
   "outputs": [
    {
     "data": {
      "text/plain": [
       "0.8237115235385412"
      ]
     },
     "execution_count": 9,
     "metadata": {},
     "output_type": "execute_result"
    }
   ],
   "source": [
    "r2_score(Y_predict,Y_teste)"
   ]
  },
  {
   "cell_type": "markdown",
   "metadata": {},
   "source": [
    " "
   ]
  }
 ],
 "metadata": {
  "kernelspec": {
   "display_name": "Python 3",
   "language": "python",
   "name": "python3"
  },
  "language_info": {
   "codemirror_mode": {
    "name": "ipython",
    "version": 3
   },
   "file_extension": ".py",
   "mimetype": "text/x-python",
   "name": "python",
   "nbconvert_exporter": "python",
   "pygments_lexer": "ipython3",
   "version": "3.7.1"
  }
 },
 "nbformat": 4,
 "nbformat_minor": 2
}
