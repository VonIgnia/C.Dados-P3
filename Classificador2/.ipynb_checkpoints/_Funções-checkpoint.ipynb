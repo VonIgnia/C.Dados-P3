{
 "cells": [
  {
   "cell_type": "markdown",
   "metadata": {},
   "source": [
    "## Projeto 3 C.Dados\n",
    "___\n",
    "- Daniel Gurgel Terra\n",
    "- Giovanni Rozatti\n",
    "- Rafael Zanfolin\n",
    "___"
   ]
  },
  {
   "cell_type": "code",
   "execution_count": 4,
   "metadata": {},
   "outputs": [],
   "source": [
    "import pandas as pd\n",
    "import numpy as np\n",
    "import matplotlib.pyplot as plt"
   ]
  },
  {
   "cell_type": "code",
   "execution_count": 5,
   "metadata": {},
   "outputs": [],
   "source": [
    "from sklearn.model_selection import train_test_split as tts\n",
    "from sklearn.metrics import *"
   ]
  },
  {
   "cell_type": "markdown",
   "metadata": {},
   "source": [
    "### Data"
   ]
  },
  {
   "cell_type": "code",
   "execution_count": 19,
   "metadata": {},
   "outputs": [],
   "source": [
    "# importando nosso dataset;\n",
    "zoo = pd.read_csv(\".\\Data\\zoo.csv\")     \n",
    "# características dos animais para o teste;\n",
    "inputs = zoo.drop(columns=[\"class_type\",\"animal_name\"])\n",
    "# resultado esperado;\n",
    "target = zoo[\"class_type\"]\n",
    "#separando dataframes teste e treino\n",
    "X_treino,X_teste,Y_treino,Y_teste=tts(inputs,target,test_size=0.8)"
   ]
  },
  {
   "cell_type": "code",
   "execution_count": 21,
   "metadata": {},
   "outputs": [],
   "source": [
    "def View_train():\n",
    "    names = []\n",
    "    for number in X_treino.index:\n",
    "        names.append(zoo.iloc[number]['animal_name'])\n",
    "    print(names)"
   ]
  },
  {
   "cell_type": "markdown",
   "metadata": {},
   "source": [
    "### Funções"
   ]
  },
  {
   "cell_type": "markdown",
   "metadata": {},
   "source": [
    "* Realiza a previsão recorrendo ao tipo de machine learning"
   ]
  },
  {
   "cell_type": "code",
   "execution_count": 13,
   "metadata": {},
   "outputs": [],
   "source": [
    "import matplotlib.image as mpimg"
   ]
  },
  {
   "cell_type": "code",
   "execution_count": 18,
   "metadata": {},
   "outputs": [],
   "source": [
    "def Previsão(tipo,k,logistica=False,tree_upgrade=False):\n",
    "    \n",
    "    if logistica:\n",
    "        model = tipo(solver='lbfgs',multi_class='auto',max_iter=1000)\n",
    "    elif tree_upgrade:\n",
    "        model = tipo(max_depth=k)\n",
    "    else:\n",
    "        model = tipo()\n",
    "    \n",
    "    model.fit(X_treino,Y_treino);\n",
    "    \n",
    "    model.score(X_teste,Y_teste);\n",
    "    \n",
    "    Y_predict = model.predict(X_teste)\n",
    "    \n",
    "    acertos=0\n",
    "    for i in range(len(X_teste)):\n",
    "        \n",
    "        if Y_predict[i]==Y_teste.iloc[i]:\n",
    "            acertos+=1\n",
    "            \n",
    "        else:\n",
    "            print('Error',zoo.iloc[X_teste.index[i]]['animal_name'])\n",
    "    print()\n",
    "    \n",
    "    print('Numero de acertos:',acertos)\n",
    "    \n",
    "    erros = len(X_teste)-acertos\n",
    "    print('Número de erros:',erros)\n",
    "    \n",
    "    print('Porcentagem de acertos: {:.2f}%'.format(acertos/len(X_teste)*100) )\n",
    "    \n",
    "    plt.pie([acertos,len(X_teste)-acertos],\n",
    "            explode=[1,-.95],\n",
    "            labels=[None,'Erros'], \n",
    "            colors=[\"#98FB98\",\"#0B6623\"]);\n",
    "    \n",
    "    plt.show()\n",
    "    \n",
    "    if tree_upgrade:\n",
    "        plt.figure(figsize=(20,20))\n",
    "    \n",
    "        Showtree(DecisionTree(max_depth=k).fit(X_teste,Y_teste), list(X_teste.columns),\n",
    "                 './Img/tree{0}.png'.format(k));   \n",
    "\n",
    "        plt.imshow(mpimg.imread(\"./Img/tree{0}.png\".format(k)));\n",
    "\n",
    "        plt.show()\n",
    "    \n",
    "    return erros,acertos"
   ]
  },
  {
   "cell_type": "markdown",
   "metadata": {},
   "source": [
    "* Produz um plot que contém cada uma das colunas por classe de animais"
   ]
  },
  {
   "cell_type": "code",
   "execution_count": 6,
   "metadata": {},
   "outputs": [],
   "source": [
    "def Classif_Plot():\n",
    "    \n",
    "    caracteristicas = list(zoo.columns)\n",
    "    caracteristicas.remove('class_type')\n",
    "    caracteristicas.remove('legs')\n",
    "\n",
    "    def contagens(tipo):\n",
    "        contagem = []\n",
    "        df = zoo[zoo.class_type==tipo]\n",
    "        for coluna in caracteristicas:\n",
    "            counts=df[coluna].value_counts()\n",
    "            if 1 in counts.index:\n",
    "                contagem.append(counts[1]/counts.sum()) \n",
    "            else:\n",
    "                contagem.append(0.02)\n",
    "        return contagem\n",
    "\n",
    "    # Caracteristics\n",
    "    barWidth = .1\n",
    "    plt.figure(figsize=(25,5))\n",
    "    colors=['#000080','#B0DFE5','#0F52BA','#4682B4','#003152','b','#4C516D']\n",
    "    labels=['Mammal','Bird','Reptile','Fish','Anphibian','Bug','Invertebrate']\n",
    "    edges =['white','blue','white','white','white','white','white']\n",
    "\n",
    "    for i in range(1,8):\n",
    "        c = contagens(i)\n",
    "\n",
    "        if i==1:\n",
    "            r = np.arange(len(c))-.2\n",
    "        else:\n",
    "            r = [x + barWidth for x in r]\n",
    "\n",
    "        plt.bar(r, c, color=colors[i-1], width=barWidth, edgecolor=edges[i-1], label=labels[i-1])\n",
    "\n",
    "    # Add xticks on the middle of the group bars\n",
    "    plt.xlabel('Animals', fontweight='bold')\n",
    "    plt.xticks([r + barWidth for r in range(len(c))], caracteristicas);\n",
    "\n",
    "    # Create legend & Show graphic\n",
    "    plt.legend(title=\"Legenda\", fontsize='large',loc='best', bbox_to_anchor=(1.1, 0.75, 0, 0),\n",
    "               shadow=True,fancybox=True,);\n",
    "\n",
    "    plt.show()"
   ]
  },
  {
   "cell_type": "markdown",
   "metadata": {},
   "source": [
    "* Produz uma imagem png com o caminho da decisão em árvore"
   ]
  },
  {
   "cell_type": "code",
   "execution_count": 7,
   "metadata": {},
   "outputs": [],
   "source": [
    "from sklearn.tree import export_graphviz\n",
    "import pydotplus\n",
    "import io\n",
    "from scipy import misc\n",
    "import imageio\n",
    "\n",
    "%matplotlib inline\n",
    "\n",
    "def Showtree(tree,features,path):\n",
    "        file = io.StringIO()\n",
    "        export_graphviz(tree, out_file=file, feature_names=features)\n",
    "        pydotplus.graph_from_dot_data(file.getvalue()).write_png(path)\n",
    "        img = imageio.imread(path)"
   ]
  },
  {
   "cell_type": "markdown",
   "metadata": {},
   "source": [
    " "
   ]
  }
 ],
 "metadata": {
  "kernelspec": {
   "display_name": "Python 3",
   "language": "python",
   "name": "python3"
  },
  "language_info": {
   "codemirror_mode": {
    "name": "ipython",
    "version": 3
   },
   "file_extension": ".py",
   "mimetype": "text/x-python",
   "name": "python",
   "nbconvert_exporter": "python",
   "pygments_lexer": "ipython3",
   "version": "3.7.1"
  }
 },
 "nbformat": 4,
 "nbformat_minor": 2
}
