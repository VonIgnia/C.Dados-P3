{
 "cells": [
  {
   "cell_type": "markdown",
   "metadata": {},
   "source": [
    "## Projeto 3 C.Dados\n",
    "___\n",
    "- Daniel Gurgel Terra\n",
    "- Giovanni Rozatti\n",
    "- Rafael Zanfolin\n",
    "___"
   ]
  },
  {
   "cell_type": "code",
   "execution_count": 1,
   "metadata": {},
   "outputs": [],
   "source": [
    "import pandas as pd\n",
    "import matplotlib.pyplot as plt"
   ]
  },
  {
   "cell_type": "markdown",
   "metadata": {},
   "source": [
    "### Data"
   ]
  },
  {
   "cell_type": "code",
   "execution_count": 2,
   "metadata": {},
   "outputs": [],
   "source": [
    "# importando nosso dataset;\n",
    "zoo = pd.read_csv(\".\\Data\\zoo.csv\")     \n",
    "# características dos animais para o teste;\n",
    "inputs = zoo.drop(columns=[\"class_type\",\"animal_name\"])\n",
    "# resultado esperado;\n",
    "target = zoo[\"class_type\"]"
   ]
  },
  {
   "cell_type": "markdown",
   "metadata": {},
   "source": [
    "### Funções"
   ]
  },
  {
   "cell_type": "code",
   "execution_count": 3,
   "metadata": {},
   "outputs": [],
   "source": [
    "def Previsão(tipo):\n",
    "    model = tipo()\n",
    "    model.fit(inputs,target);\n",
    "    model.score(inputs,target);\n",
    "    \n",
    "    acertos=0\n",
    "    for i in range(len(zoo)):\n",
    "        if (model.predict([inputs.iloc[i]])[0])==(zoo.iloc[i]['class_type']):\n",
    "            acertos+=1\n",
    "        else:\n",
    "            print('Error',zoo.iloc[i]['animal_name'])\n",
    "    print()\n",
    "    print('Numero de acertos:',acertos)\n",
    "    print(\"Número de erros: \",(len(zoo)-acertos))\n",
    "    print('Porcentagem de acertos: {:.2f}%'.format(acertos/len(zoo)*100) )\n",
    "    plt.pie([acertos,len(zoo)-acertos], explode=[1,-.95], labels=[None,'Erros'], \n",
    "            colors=[\"#98FB98\",\"#0B6623\"]);"
   ]
  },
  {
   "cell_type": "markdown",
   "metadata": {},
   "source": [
    " "
   ]
  }
 ],
 "metadata": {
  "kernelspec": {
   "display_name": "Python 3",
   "language": "python",
   "name": "python3"
  },
  "language_info": {
   "codemirror_mode": {
    "name": "ipython",
    "version": 3
   },
   "file_extension": ".py",
   "mimetype": "text/x-python",
   "name": "python",
   "nbconvert_exporter": "python",
   "pygments_lexer": "ipython3",
   "version": "3.7.1"
  }
 },
 "nbformat": 4,
 "nbformat_minor": 2
}
