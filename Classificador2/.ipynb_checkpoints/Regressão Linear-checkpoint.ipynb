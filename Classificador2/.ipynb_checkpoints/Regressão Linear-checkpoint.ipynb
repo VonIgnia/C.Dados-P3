{
 "cells": [
  {
   "cell_type": "markdown",
   "metadata": {},
   "source": [
    "Imports"
   ]
  },
  {
   "cell_type": "code",
   "execution_count": 1,
   "metadata": {},
   "outputs": [],
   "source": [
    "import pandas as pd\n",
    "from matplotlib import pyplot as plt\n",
    "\n",
    "# Treino e Teste\n",
    "from sklearn.model_selection import train_test_split as tts\n",
    "\n",
    "# \n",
    "from sklearn.linear_model import LogisticRegression\n",
    "\n",
    "# Matriz\n",
    "from sklearn.metrics import confusion_matrix\n",
    "\n",
    "%matplotlib inline"
   ]
  },
  {
   "cell_type": "markdown",
   "metadata": {},
   "source": [
    "Data"
   ]
  },
  {
   "cell_type": "code",
   "execution_count": 2,
   "metadata": {},
   "outputs": [],
   "source": [
    "zoo = pd.read_csv(\".\\Data\\zoo.csv\")                         # importando nosso dataset;\n",
    "inputs = zoo.drop(columns=[\"class_type\",\"animal_name\"])     # características dos animais para o teste;\n",
    "target = zoo[\"class_type\"]                                  # resultado esperado;"
   ]
  },
  {
   "cell_type": "code",
   "execution_count": 4,
   "metadata": {},
   "outputs": [],
   "source": []
  },
  {
   "cell_type": "code",
   "execution_count": 5,
   "metadata": {},
   "outputs": [],
   "source": [
    "X_treino,X_teste,Y_treino,Y_teste=tts(inputs,target,test_size=0.9)"
   ]
  },
  {
   "cell_type": "code",
   "execution_count": 12,
   "metadata": {},
   "outputs": [],
   "source": [
    "model = LogisticRegression(solver='lbfgs',multi_class='auto')"
   ]
  },
  {
   "cell_type": "code",
   "execution_count": 13,
   "metadata": {},
   "outputs": [],
   "source": [
    "model.fit(X_treino,Y_treino)\n",
    "Y_predict=model.predict(X_teste)"
   ]
  },
  {
   "cell_type": "code",
   "execution_count": 14,
   "metadata": {},
   "outputs": [
    {
     "name": "stderr",
     "output_type": "stream",
     "text": [
      "C:\\Users\\User\\Anaconda3\\lib\\site-packages\\sklearn\\linear_model\\logistic.py:758: ConvergenceWarning: lbfgs failed to converge. Increase the number of iterations.\n",
      "  \"of iterations.\", ConvergenceWarning)\n"
     ]
    },
    {
     "name": "stdout",
     "output_type": "stream",
     "text": [
      "Error newt\n",
      "Error salamander\n",
      "Error mantis\n",
      "Error spider\n",
      "Error tracaja\n",
      "Error bicho-pau\n",
      "\n",
      "Numero de acertos: 208\n",
      "Número de erros:  6\n",
      "Porcentagem de acertos: 97.20%\n"
     ]
    },
    {
     "data": {
      "image/png": "[encoded data removed]",
      "text/plain": [
       "<Figure size 432x288 with 1 Axes>"
      ]
     },
     "metadata": {},
     "output_type": "display_data"
    }
   ],
   "source": [
    "import import_ipynb\n",
    "from _Funções import Previsão\n",
    "#\n",
    "Previsão(LogisticRegression)"
   ]
  },
  {
   "cell_type": "code",
   "execution_count": 15,
   "metadata": {},
   "outputs": [
    {
     "data": {
      "text/plain": [
       "array([[54,  0,  0,  4,  0,  0,  0],\n",
       "       [ 0, 37,  0,  0,  0,  0,  0],\n",
       "       [ 0,  0, 16,  1,  3,  0,  0],\n",
       "       [ 0,  0,  0, 24,  0,  0,  0],\n",
       "       [ 0,  0,  1,  0, 11,  0,  0],\n",
       "       [ 0,  0,  0,  0,  0, 23,  0],\n",
       "       [ 0,  0,  0,  4,  1,  9,  5]], dtype=int64)"
      ]
     },
     "execution_count": 15,
     "metadata": {},
     "output_type": "execute_result"
    }
   ],
   "source": [
    "cm = confusion_matrix(Y_teste,Y_predict)\n",
    "cm"
   ]
  },
  {
   "cell_type": "code",
   "execution_count": 16,
   "metadata": {},
   "outputs": [
    {
     "data": {
      "text/plain": [
       "array(['Mammal', 'Bird', 'Reptile', 'Fish', 'Anphibian', 'Bug',\n",
       "       'Invertebrate'], dtype='<U12')"
      ]
     },
     "execution_count": 16,
     "metadata": {},
     "output_type": "execute_result"
    }
   ],
   "source": [
    "import array\n",
    "a=[0,1,2,3,4,5,6]\n",
    "c=[\"Mammal\",\"Bird\",\"Reptile\",\"Fish\",\"Anphibian\",\"Bug\",\"Invertebrate\"]\n",
    "Classification = {\"Mammal\":1, \"Bird\":2, \"Reptile\":3, \"Fish\":4, \"Anphibian\":5, \"Bug\":6, \"Invertebrate\":7}\n",
    "import numpy as np\n",
    "c=np.array(c)\n",
    "c"
   ]
  },
  {
   "cell_type": "code",
   "execution_count": 17,
   "metadata": {},
   "outputs": [
    {
     "data": {
      "image/png": "[encoded data removed]",
      "text/plain": [
       "<Figure size 720x720 with 2 Axes>"
      ]
     },
     "metadata": {
      "needs_background": "light"
     },
     "output_type": "display_data"
    }
   ],
   "source": [
    "import seaborn as sn\n",
    "plt.figure(figsize=(10,10))\n",
    "sn.heatmap(cm,annot=True)\n",
    "plt.ylabel(\"Valor Real\")\n",
    "plt.xlabel(\"Previsão\")\n",
    "plt.show;"
   ]
  },
  {
   "cell_type": "code",
   "execution_count": null,
   "metadata": {},
   "outputs": [],
   "source": []
  }
 ],
 "metadata": {
  "kernelspec": {
   "display_name": "Python 3",
   "language": "python",
   "name": "python3"
  },
  "language_info": {
   "codemirror_mode": {
    "name": "ipython",
    "version": 3
   },
   "file_extension": ".py",
   "mimetype": "text/x-python",
   "name": "python",
   "nbconvert_exporter": "python",
   "pygments_lexer": "ipython3",
   "version": "3.7.1"
  }
 },
 "nbformat": 4,
 "nbformat_minor": 2
}
