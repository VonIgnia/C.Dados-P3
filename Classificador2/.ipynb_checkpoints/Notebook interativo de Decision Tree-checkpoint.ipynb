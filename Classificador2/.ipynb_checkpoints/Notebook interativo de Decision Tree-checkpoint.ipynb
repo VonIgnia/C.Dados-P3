{
 "cells": [
  {
   "cell_type": "code",
   "execution_count": 2,
   "metadata": {},
   "outputs": [],
   "source": [
    "%matplotlib inline\n",
    "from scipy.stats import norm\n",
    "import matplotlib.pyplot as plt\n",
    "import numpy as np\n",
    "import pandas as pd\n",
    "from ipywidgets import interact, interactive, fixed, interact_manual\n",
    "import ipywidgets as widgets\n",
    "import sklearn\n",
    "from sklearn.tree import DecisionTreeClassifier as DecisionTree"
   ]
  },
  {
   "cell_type": "code",
   "execution_count": 3,
   "metadata": {},
   "outputs": [],
   "source": [
    "# importando nosso dataset;\n",
    "zoo = pd.read_csv(\".\\Data\\zoo.csv\")     \n",
    "# características dos animais para o teste;\n",
    "inputs = zoo.drop(columns=[\"class_type\",\"animal_name\"])\n",
    "# resultado esperado;\n",
    "target = zoo[\"class_type\"]"
   ]
  },
  {
   "cell_type": "code",
   "execution_count": 4,
   "metadata": {},
   "outputs": [
    {
     "data": {
      "application/vnd.jupyter.widget-view+json": {
       "model_id": "8a095f67c22e4c6c8db0ea59394b319c",
       "version_major": 2,
       "version_minor": 0
      },
      "text/plain": [
       "interactive(children=(IntSlider(value=5, description='k', max=16, min=1), Output()), _dom_classes=('widget-int…"
      ]
     },
     "metadata": {},
     "output_type": "display_data"
    }
   ],
   "source": [
    "@interact(k = (1,len(inputs.columns), 1))\n",
    "def f(k=5):\n",
    "    model = DecisionTree(max_depth=k)\n",
    "    model.fit(inputs,target);\n",
    "    model.score(inputs,target);\n",
    "    acertos=0\n",
    "    for i in range(len(zoo)):\n",
    "        if (model.predict([inputs.iloc[i]])[0])==(zoo.iloc[i]['class_type']):\n",
    "            acertos+=1\n",
    "        else:\n",
    "            print('Error',zoo.iloc[i]['animal_name'])\n",
    "    print()\n",
    "    print('Numero de acertos:',acertos)\n",
    "    print(\"Número de erros: \",(len(zoo)-acertos))\n",
    "    print('Porcentagem de acertos: {:.2f}%'.format(acertos/len(zoo)*100) )\n",
    "    plt.pie([acertos,len(zoo)-acertos], explode=[1,-.95], labels=[None,'Erros'], \n",
    "            colors=[\"#98FB98\",\"#0B6623\"]);\n",
    "    \n",
    "    "
   ]
  },
  {
   "cell_type": "code",
<<<<<<< HEAD
   "execution_count": 40,
=======
   "execution_count": 5,
>>>>>>> 2cf0c21114d490f5456292a89108534dc02e053f
   "metadata": {},
   "outputs": [
    {
     "name": "stdout",
     "output_type": "stream",
     "text": [
      "[1, 2, 3, 4, 5, 6, 7, 8, 9, 10, 11, 12, 13, 14, 15]\n",
      "[114, 86, 61, 36, 12, 11, 6, 4, 4, 3, 3, 3, 3, 3, 3]\n"
     ]
    },
    {
     "data": {
<<<<<<< HEAD
      "image/png": "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\n",
=======
      "text/plain": [
       "[<matplotlib.lines.Line2D at 0x2170349d9b0>]"
      ]
     },
     "execution_count": 5,
     "metadata": {},
     "output_type": "execute_result"
    },
    {
     "data": {
      "image/png": "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\n",
>>>>>>> 2cf0c21114d490f5456292a89108534dc02e053f
      "text/plain": [
       "<Figure size 432x288 with 1 Axes>"
      ]
     },
     "metadata": {
      "needs_background": "light"
     },
     "output_type": "display_data"
    }
   ],
   "source": [
    "lista_k=[]\n",
    "lista_erros=[]\n",
    "for k in range (1,len(inputs.columns)):\n",
    "    acertos=0\n",
    "    model = DecisionTree(max_depth=k)\n",
    "    model.fit(inputs,target);\n",
    "    model.score(inputs,target);\n",
    "    for i in range(len(zoo)):\n",
    "        if (model.predict([inputs.iloc[i]])[0])==(zoo.iloc[i]['class_type']):\n",
    "            acertos+=1\n",
    "    erros=len(zoo)-acertos\n",
    "    lista_k.append(k)\n",
    "    lista_erros.append(erros)\n",
    "print(lista_k)\n",
    "print(lista_erros)\n",
<<<<<<< HEAD
    "plt.plot(lista_k,lista_erros,color=\"black\",marker=\".\",markersize=14);"
=======
    "plt.plot(lista_k,lista_erros, 'ro')"
>>>>>>> 2cf0c21114d490f5456292a89108534dc02e053f
   ]
  },
  {
   "cell_type": "code",
   "execution_count": null,
   "metadata": {},
   "outputs": [],
   "source": []
  }
 ],
 "metadata": {
  "kernelspec": {
   "display_name": "Python 3",
   "language": "python",
   "name": "python3"
  },
  "language_info": {
   "codemirror_mode": {
    "name": "ipython",
    "version": 3
   },
   "file_extension": ".py",
   "mimetype": "text/x-python",
   "name": "python",
   "nbconvert_exporter": "python",
   "pygments_lexer": "ipython3",
   "version": "3.7.3"
  }
 },
 "nbformat": 4,
 "nbformat_minor": 2
}
