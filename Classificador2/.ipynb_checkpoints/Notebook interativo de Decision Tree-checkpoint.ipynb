{
 "cells": [
  {
   "cell_type": "code",
   "execution_count": 3,
   "metadata": {},
   "outputs": [],
   "source": [
    "%matplotlib inline\n",
    "from scipy.stats import norm\n",
    "import matplotlib.pyplot as plt\n",
    "import numpy as np\n",
    "import pandas as pd\n",
    "from ipywidgets import interact, interactive, fixed, interact_manual\n",
    "import ipywidgets as widgets\n",
    "import sklearn\n",
    "from sklearn.tree import DecisionTreeClassifier as DecisionTree"
   ]
  },
  {
   "cell_type": "code",
   "execution_count": 4,
   "metadata": {},
   "outputs": [],
   "source": [
    "# importando nosso dataset;\n",
    "zoo = pd.read_csv(\".\\Data\\zoo.csv\")     \n",
    "# características dos animais para o teste;\n",
    "inputs = zoo.drop(columns=[\"class_type\",\"animal_name\"])\n",
    "# resultado esperado;\n",
    "target = zoo[\"class_type\"]"
   ]
  },
  {
   "cell_type": "code",
   "execution_count": 18,
   "metadata": {},
   "outputs": [
    {
     "data": {
      "application/vnd.jupyter.widget-view+json": {
       "model_id": "cb56931e9934420fb6dc03c68a799397",
       "version_major": 2,
       "version_minor": 0
      },
      "text/plain": [
       "interactive(children=(IntSlider(value=5, description='k', max=16, min=1), Output()), _dom_classes=('widget-int…"
      ]
     },
     "metadata": {},
     "output_type": "display_data"
    }
   ],
   "source": [
    "@interact(k = (1,len(inputs.columns), 1))\n",
    "def f(k=5):\n",
    "    model = DecisionTree(max_depth=k)\n",
    "    model.fit(inputs,target);\n",
    "    model.score(inputs,target);\n",
    "    acertos=0\n",
    "    for i in range(len(zoo)):\n",
    "        if (model.predict([inputs.iloc[i]])[0])==(zoo.iloc[i]['class_type']):\n",
    "            acertos+=1\n",
    "        else:\n",
    "            print('Error',zoo.iloc[i]['animal_name'])\n",
    "    print()\n",
    "    print('Numero de acertos:',acertos)\n",
    "    print(\"Número de erros: \",(len(zoo)-acertos))\n",
    "    print('Porcentagem de acertos: {:.2f}%'.format(acertos/len(zoo)*100) )\n",
    "    plt.pie([acertos,len(zoo)-acertos], explode=[1,-.95], labels=[None,'Erros'], \n",
    "            colors=[\"#98FB98\",\"#0B6623\"]);\n",
    "    \n",
    "    "
   ]
  },
  {
   "cell_type": "code",
   "execution_count": 40,
   "metadata": {},
   "outputs": [
    {
     "name": "stdout",
     "output_type": "stream",
     "text": [
      "[1, 2, 3, 4, 5, 6, 7, 8, 9, 10, 11, 12, 13, 14, 15]\n",
      "[114, 86, 61, 36, 12, 11, 6, 4, 3, 3, 3, 3, 3, 3, 3]\n"
     ]
    },
    {
     "data": {
      "image/png": "[encoded data removed]",
      "text/plain": [
       "<Figure size 432x288 with 1 Axes>"
      ]
     },
     "metadata": {
      "needs_background": "light"
     },
     "output_type": "display_data"
    }
   ],
   "source": [
    "lista_k=[]\n",
    "lista_erros=[]\n",
    "for k in range (1,len(inputs.columns)):\n",
    "    acertos=0\n",
    "    model = DecisionTree(max_depth=k)\n",
    "    model.fit(inputs,target);\n",
    "    model.score(inputs,target);\n",
    "    for i in range(len(zoo)):\n",
    "        if (model.predict([inputs.iloc[i]])[0])==(zoo.iloc[i]['class_type']):\n",
    "            acertos+=1\n",
    "    erros=len(zoo)-acertos\n",
    "    lista_k.append(k)\n",
    "    lista_erros.append(erros)\n",
    "print(lista_k)\n",
    "print(lista_erros)\n",
    "plt.plot(lista_k,lista_erros,color=\"black\",marker=\".\",markersize=14);"
   ]
  },
  {
   "cell_type": "code",
   "execution_count": null,
   "metadata": {},
   "outputs": [],
   "source": []
  }
 ],
 "metadata": {
  "kernelspec": {
   "display_name": "Python 3",
   "language": "python",
   "name": "python3"
  },
  "language_info": {
   "codemirror_mode": {
    "name": "ipython",
    "version": 3
   },
   "file_extension": ".py",
   "mimetype": "text/x-python",
   "name": "python",
   "nbconvert_exporter": "python",
   "pygments_lexer": "ipython3",
   "version": "3.7.1"
  }
 },
 "nbformat": 4,
 "nbformat_minor": 2
}
