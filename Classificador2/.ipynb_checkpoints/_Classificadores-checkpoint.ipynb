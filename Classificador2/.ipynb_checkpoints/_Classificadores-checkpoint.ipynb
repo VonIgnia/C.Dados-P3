{
 "cells": [
  {
   "cell_type": "markdown",
   "metadata": {},
   "source": [
    "# Projeto 3 C.Dados\n",
    "___\n",
    "- Daniel Gurgel Terra\n",
    "- Giovanni Rozatti\n",
    "- Rafael Zanfolin\n",
    "___"
   ]
  },
  {
   "cell_type": "markdown",
   "metadata": {},
   "source": [
    "**Pergunta: Dada algumas poucas características biológicas dos animais é possível uma machine learning determinar a qual classe eles pertencem?**\n",
    "\n",
    "Para responder á nossa pergunta escolhemos as seguintes Machine Learners importadas da biblioteca scikitlearn:\n",
    "- [Decision Tree](#id-section1)\n",
    "- [Logistic Regression](#id-section2)\n",
    "- [Naive Bayes](#id-section3)\n",
    "    - [Bernoulli Naive Bayes](#id-section4)\n",
    "    - [Gaussian Naive Bayes](#id-section5)\n",
    "    - [Multinomial Naive Bayes](#id-section6)  \n",
    "- [Clusterização por K-means](#id-section7)\n",
    "\n",
    "\n",
    "<div id='id-section2'/>\n",
    "Section 2"
   ]
  },
  {
   "cell_type": "code",
   "execution_count": 1,
   "metadata": {},
   "outputs": [
    {
     "name": "stdout",
     "output_type": "stream",
     "text": [
      "importing Jupyter notebook from _Funções.ipynb\n"
     ]
    }
   ],
   "source": [
    "# Classificadores\n",
    "from sklearn.tree import DecisionTreeClassifier as DecisionTree\n",
    "from sklearn.linear_model import LogisticRegression\n",
    "from sklearn.naive_bayes import BernoulliNB\n",
    "from sklearn.naive_bayes import GaussianNB\n",
    "from sklearn.naive_bayes import MultinomialNB\n",
    "# Funções\n",
    "import import_ipynb\n",
    "from _Funções import Previsão\n",
    "from _Funções import View_train\n",
    "# Plot\n",
    "import matplotlib.pyplot as plt"
   ]
  },
  {
   "cell_type": "markdown",
   "metadata": {},
   "source": [
    "### Previsões"
   ]
  },
  {
   "cell_type": "markdown",
   "metadata": {},
   "source": [
    "A célula abaixo foi criada para medirmos qual é o melhor modelo, ela cria duas listas, com os valores de erros e acertos para cada modelo, no final essa lista é utilizada para plotar dois gráficos de barras (um sobre o outro)"
   ]
  },
  {
   "cell_type": "code",
   "execution_count": 2,
   "metadata": {},
   "outputs": [],
   "source": [
    "total_erros, total_acertos = [],[]"
   ]
  },
  {
   "cell_type": "markdown",
   "metadata": {},
   "source": [
    "**Treino:**"
   ]
  },
  {
   "cell_type": "code",
   "execution_count": 3,
   "metadata": {},
   "outputs": [
    {
     "name": "stdout",
     "output_type": "stream",
     "text": [
      "['dart frog', 'vampire', 'housefly', 'guara', 'sapo-cururu', 'lambari', 'papagaio-de-cara-roxa', 'catfish', 'skimmer', 'jabuti', 'ariranha', 'moth', 'sucuri', 'joaninha', 'deer', 'pavo', 'oryx', 'harpia', 'arara-azul', 'jacurutu', 'leopard', 'seasnake', 'calf', 'salamander', 'cascudinho-de-caverna', 'chaua', 'sapo-barriga-de-fogo', 'beetle', 'mono-carvoeiro', 'trout', 'tambaqui', 'skink', 'peixe-boi', 'boto-cor-de-rosa', 'pussycat', 'frog', 'fruitbat', 'ostrich', 'swan', 'marlin', 'perereca-de-alcatrazes', 'alligator']\n"
     ]
    }
   ],
   "source": [
    "View_train()"
   ]
  },
  {
   "cell_type": "markdown",
   "metadata": {},
   "source": [
    "### <div id='id-section1'/>\n",
    "\n",
    "### Decision Tree:\n",
    "Resolve problemas de classificação, desenha “barreiras de decisão” (decision boundaries), ou seja, divide o dataset um determinado número de vezes com o objetivo de determinar aqual classe nossos objetos de estudo pertencem;  \n",
    "     Uma forma mais simples de pensar no que é uma decision tree é o clássico meme da chart de engenharia básica que aparece abaixo: <img src=\"./Img/Decision Tree img.jpg\" style=\"width=10rem;\"/>   \n",
    "Ou seja a partir  de perguntas que tem respostas binárias faz conclusões parciais calculando a chance de ir para cada um dos caminhos possíveis e novas perguntas, quanto mais perguntas, maior a profundidade da Decision Tree, e quanto mais profunda, maior é a sua acurácia. \n"
   ]
  },
  {
   "cell_type": "markdown",
   "metadata": {},
   "source": [
    "Dentro do nosso projeto utilizamos da DecisionTree para fazer perguntas na nossa base de dados visando a partir de caracteristicas biológicas determinar a qual classe biológica, um animal que possui aquelas características, deveria pertencer. Seria como perguntar: \"tem pelo?\" e receber como resposta sim,  partir disso, faria outra pergunta , como por exemplo: \"Tem leite?\" e assim em diante."
   ]
  },
  {
   "cell_type": "code",
   "execution_count": 4,
   "metadata": {},
   "outputs": [
    {
     "name": "stdout",
     "output_type": "stream",
     "text": [
      "Error gecko\n",
      "Error turtle\n",
      "Error squid\n",
      "Error slug\n",
      "Error sauva-limao\n",
      "Error siren\n",
      "Error octopus\n",
      "Error silkworm\n",
      "Error snail\n",
      "Error seawasp\n",
      "Error chameleon\n",
      "Error newt\n",
      "Error jellyfish\n",
      "Error caracol-da-mata-atlantica\n",
      "Error crayfish\n",
      "Error clam\n",
      "Error tracaja\n",
      "Error crab\n",
      "Error scorpion\n",
      "Error scallop\n",
      "Error bicho-pau\n",
      "Error lobster\n",
      "Error starfish\n",
      "Error spider\n",
      "Error caranguejeira\n",
      "Error sapo-de-chifre\n",
      "Error iguana\n",
      "Error worm\n",
      "\n",
      "Numero de acertos: 144\n",
      "Número de erros: 28\n",
      "Porcentagem de acertos: 83.72%\n"
     ]
    },
    {
     "data": {
      "image/png": "[encoded data removed]",
      "text/plain": [
       "<Figure size 432x288 with 1 Axes>"
      ]
     },
     "metadata": {},
     "output_type": "display_data"
    }
   ],
   "source": [
    "erros,acertos = Previsão(DecisionTree,0)\n",
    "total_erros.append(erros); total_acertos.append(acertos)"
   ]
  },
  {
   "cell_type": "markdown",
   "metadata": {},
   "source": [
    "A Regressão Logística é uma técnica usada para solucionar problemas de classificação (binária ou multinominal), ou seja, ela é utilizada para responder questões que assumem as respostas como sendo de valor categórico, no nosso caso a Classe a qual a qual o animal pertence, a partir de um conjunto de variáveis independentes.\n",
    "Ela também pode ser vista como um caso específico de regressão linear com valor de saída(outcome) categórico, em que usamos o logarítimo das probabilidades de ocorrência como variáveis dependentes, ou seja prevê a probabilidade de ocorrência de um evento (no caso pertencer a uma classe) fazendo um fit com uma função Logit (logarítmica das probabilidades)"
   ]
  },
  {
   "cell_type": "markdown",
   "metadata": {},
   "source": [
    "Considerando que tanto os nossos input são qualitivos de aspecto Dummy e que nossos ouputs também são qualitativos, imaginamos que a regressão logística seria um bom método de previsão pois pretendiamos responder de classificação assim como a aceita pela logística"
   ]
  },
  {
   "cell_type": "code",
   "execution_count": 5,
   "metadata": {},
   "outputs": [
    {
     "name": "stdout",
     "output_type": "stream",
     "text": [
      "Error gecko\n",
      "Error squid\n",
      "Error slug\n",
      "Error sauva-limao\n",
      "Error siren\n",
      "Error octopus\n",
      "Error jacare-coroa\n",
      "Error silkworm\n",
      "Error snail\n",
      "Error seawasp\n",
      "Error chameleon\n",
      "Error jellyfish\n",
      "Error caracol-da-mata-atlantica\n",
      "Error crayfish\n",
      "Error clam\n",
      "Error tracaja\n",
      "Error crab\n",
      "Error scorpion\n",
      "Error scallop\n",
      "Error bicho-pau\n",
      "Error lobster\n",
      "Error starfish\n",
      "Error spider\n",
      "Error caranguejeira\n",
      "Error sapo-de-chifre\n",
      "Error worm\n",
      "\n",
      "Numero de acertos: 146\n",
      "Número de erros: 26\n",
      "Porcentagem de acertos: 84.88%\n"
     ]
    },
    {
     "data": {
      "image/png": "[encoded data removed]",
      "text/plain": [
       "<Figure size 432x288 with 1 Axes>"
      ]
     },
     "metadata": {},
     "output_type": "display_data"
    }
   ],
   "source": [
    "erros,acertos = Previsão(LogisticRegression,0,logistica=True)\n",
    "total_erros.append(erros); total_acertos.append(acertos)"
   ]
  },
  {
   "cell_type": "markdown",
   "metadata": {},
   "source": [
    "## NaiveBayes:\n",
    "O Naive Bayes coleta e enumera as informações do datasheet de treino e a partir dessas informações determina qual classe seria a mais provável de o animal estar, sendo que essa é escolhida como previsão pelo classificador.\n",
    "\n",
    "\n",
    "\n",
    "Nesse notebook implementamos 3 tipos de NaiveBayes, que fazem o cálculo dessa probabilidade de maneira diferente, são eles:"
   ]
  },
  {
   "cell_type": "markdown",
   "metadata": {},
   "source": [
    "## Bernoulli NB: \n",
    "Bernoulli NB implementa o treinamento de Naive Bayes e classifica os algoritmos para cada data que esta distribuida de acordo com o modelo de distribuição Bernoulli multivariada. Existem várias funções mas cada uma é asumida com um valor binário (Bernoulli, Bouleano). Concluindo, essa classe necessita de que as amostras sejam representadas como valores binários. \n",
    "\n",
    "Visto que nossos inputs eram dummies e portanto binários, Bernoulli se enquadrava no que desejávamos\n"
   ]
  },
  {
   "cell_type": "code",
   "execution_count": 6,
   "metadata": {},
   "outputs": [
    {
     "name": "stdout",
     "output_type": "stream",
     "text": [
      "Error gecko\n",
      "Error squid\n",
      "Error slug\n",
      "Error sauva-limao\n",
      "Error octopus\n",
      "Error silkworm\n",
      "Error snail\n",
      "Error seawasp\n",
      "Error tortoise\n",
      "Error chameleon\n",
      "Error newt\n",
      "Error jellyfish\n",
      "Error caracol-da-mata-atlantica\n",
      "Error crayfish\n",
      "Error clam\n",
      "Error tracaja\n",
      "Error crab\n",
      "Error scorpion\n",
      "Error scallop\n",
      "Error bicho-pau\n",
      "Error lobster\n",
      "Error starfish\n",
      "Error spider\n",
      "Error caranguejeira\n",
      "Error worm\n",
      "\n",
      "Numero de acertos: 147\n",
      "Número de erros: 25\n",
      "Porcentagem de acertos: 85.47%\n"
     ]
    },
    {
     "data": {
      "image/png": "[encoded data removed]",
      "text/plain": [
       "<Figure size 432x288 with 1 Axes>"
      ]
     },
     "metadata": {},
     "output_type": "display_data"
    }
   ],
   "source": [
    "erros,acertos = Previsão(BernoulliNB,0)\n",
    "total_erros.append(erros); total_acertos.append(acertos)"
   ]
  },
  {
   "cell_type": "markdown",
   "metadata": {},
   "source": [
    "## Gausssian NB: "
   ]
  },
  {
   "cell_type": "code",
   "execution_count": 7,
   "metadata": {},
   "outputs": [
    {
     "name": "stdout",
     "output_type": "stream",
     "text": [
      "Error squid\n",
      "Error slug\n",
      "Error sauva-limao\n",
      "Error siren\n",
      "Error octopus\n",
      "Error jacare-coroa\n",
      "Error silkworm\n",
      "Error snail\n",
      "Error seawasp\n",
      "Error jellyfish\n",
      "Error caracol-da-mata-atlantica\n",
      "Error crayfish\n",
      "Error clam\n",
      "Error tracaja\n",
      "Error crab\n",
      "Error scorpion\n",
      "Error scallop\n",
      "Error bicho-pau\n",
      "Error lobster\n",
      "Error starfish\n",
      "Error spider\n",
      "Error caranguejeira\n",
      "Error sapo-de-chifre\n",
      "Error worm\n",
      "\n",
      "Numero de acertos: 148\n",
      "Número de erros: 24\n",
      "Porcentagem de acertos: 86.05%\n"
     ]
    },
    {
     "data": {
      "image/png": "[encoded data removed]",
      "text/plain": [
       "<Figure size 432x288 with 1 Axes>"
      ]
     },
     "metadata": {},
     "output_type": "display_data"
    }
   ],
   "source": [
    "erros,acertos = Previsão(GaussianNB,0)\n",
    "total_erros.append(erros); total_acertos.append(acertos)"
   ]
  },
  {
   "cell_type": "markdown",
   "metadata": {},
   "source": [
    "## Multinomial NB:\n",
    "O classificador Multinomial Naive Bayes é um NaiveBayes que tem outputs não binários, ou seja seus outputs podem assumir valores diferentes de apenas sim e não, no nosso caso os outputs podem assumir sete valores diferentes, sendo eles as sete classificações biológicas"
   ]
  },
  {
   "cell_type": "code",
   "execution_count": 8,
   "metadata": {},
   "outputs": [
    {
     "name": "stdout",
     "output_type": "stream",
     "text": [
      "Error gecko\n",
      "Error turtle\n",
      "Error squid\n",
      "Error slug\n",
      "Error sauva-limao\n",
      "Error siren\n",
      "Error octopus\n",
      "Error lizard\n",
      "Error jacare-coroa\n",
      "Error silkworm\n",
      "Error snail\n",
      "Error seawasp\n",
      "Error tortoise\n",
      "Error chameleon\n",
      "Error jellyfish\n",
      "Error caracol-da-mata-atlantica\n",
      "Error crayfish\n",
      "Error clam\n",
      "Error tuatara\n",
      "Error tracaja\n",
      "Error crab\n",
      "Error scorpion\n",
      "Error scallop\n",
      "Error bicho-pau\n",
      "Error lobster\n",
      "Error starfish\n",
      "Error spider\n",
      "Error caranguejeira\n",
      "Error worm\n",
      "\n",
      "Numero de acertos: 143\n",
      "Número de erros: 29\n",
      "Porcentagem de acertos: 83.14%\n"
     ]
    },
    {
     "data": {
      "image/png": "[encoded data removed]",
      "text/plain": [
       "<Figure size 432x288 with 1 Axes>"
      ]
     },
     "metadata": {},
     "output_type": "display_data"
    }
   ],
   "source": [
    "erros,acertos = Previsão(MultinomialNB,0)\n",
    "total_erros.append(erros); total_acertos.append(acertos)"
   ]
  },
  {
   "cell_type": "code",
   "execution_count": 10,
   "metadata": {},
   "outputs": [
    {
     "data": {
      "image/png": "[encoded data removed]",
      "text/plain": [
       "<Figure size 432x288 with 1 Axes>"
      ]
     },
     "metadata": {
      "needs_background": "light"
     },
     "output_type": "display_data"
    }
   ],
   "source": [
    "classif = ['Tree','Logistic','Bernoulli','Gaussian','Multinomial']\n",
    "plt.bar(classif,total_acertos);\n",
    "plt.bar(classif,total_erros, bottom=total_acertos)\n",
    "plt.ylim((130,175));"
   ]
  },
  {
   "cell_type": "markdown",
   "metadata": {},
   "source": [
    " "
   ]
  }
 ],
 "metadata": {
  "kernelspec": {
   "display_name": "Python 3",
   "language": "python",
   "name": "python3"
  },
  "language_info": {
   "codemirror_mode": {
    "name": "ipython",
    "version": 3
   },
   "file_extension": ".py",
   "mimetype": "text/x-python",
   "name": "python",
   "nbconvert_exporter": "python",
   "pygments_lexer": "ipython3",
   "version": "3.7.1"
  }
 },
 "nbformat": 4,
 "nbformat_minor": 2
}
