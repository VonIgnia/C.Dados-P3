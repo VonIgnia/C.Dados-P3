{
 "cells": [
  {
   "cell_type": "markdown",
   "metadata": {},
   "source": [
    "# Projeto 3 C.Dados\n",
    "___\n",
    "- Daniel Gurgel Terra\n",
    "- Giovanni Rozatti\n",
    "- Rafael Zanfolin\n",
    "___"
   ]
  },
  {
   "cell_type": "markdown",
   "metadata": {},
   "source": [
    "**Pergunta: Dada algumas poucas características biológicas dos animais é possível uma machine learning determinar a qual classe eles pertencem?**\n",
    "\n",
    "Para responder á nossa pergunta escolhemos as seguintes Machine Learners importadas da biblioteca scikitlearn:\n",
    "- [Decision Tree](#id-section1)\n",
    "- [Logistic Regression](#id-section2)\n",
    "- [Naive Bayes](#id-section3)\n",
    "    - [Bernoulli Naive Bayes](#id-section4)\n",
    "    - [Gaussian Naive Bayes](#id-section5)\n",
    "    - [Multinomial Naive Bayes](#id-section6)  \n",
    "- [Clusterização por K-means](#id-section7)\n",
    "\n",
    "\n",
    "<div id='id-section2'/>\n",
    "Section 2"
   ]
  },
  {
   "cell_type": "code",
   "execution_count": 1,
   "metadata": {},
   "outputs": [
    {
     "name": "stdout",
     "output_type": "stream",
     "text": [
      "importing Jupyter notebook from _Funções.ipynb\n"
     ]
    }
   ],
   "source": [
    "# Classificadores\n",
    "from sklearn.tree import DecisionTreeClassifier as DecisionTree\n",
    "from sklearn.linear_model import LogisticRegression\n",
    "from sklearn.naive_bayes import BernoulliNB\n",
    "from sklearn.naive_bayes import GaussianNB\n",
    "from sklearn.naive_bayes import MultinomialNB\n",
    "# Funções\n",
    "import import_ipynb\n",
    "from _Funções import Previsão\n",
    "from _Funções import View_train\n",
    "# Plot\n",
    "import matplotlib.pyplot as plt"
   ]
  },
  {
   "cell_type": "markdown",
   "metadata": {},
   "source": [
    "### Previsões"
   ]
  },
  {
   "cell_type": "markdown",
   "metadata": {},
   "source": [
    "A célula abaixo foi criada para medirmos qual é o melhor modelo, ela cria duas listas, com os valores de erros e acertos para cada modelo, no final essa lista é utilizada para plotar dois gráficos de barras (um sobre o outro)"
   ]
  },
  {
   "cell_type": "code",
   "execution_count": 2,
   "metadata": {},
   "outputs": [],
   "source": [
    "total_erros, total_acertos = [],[]"
   ]
  },
  {
   "cell_type": "markdown",
   "metadata": {},
   "source": [
    "**Treino:**"
   ]
  },
  {
   "cell_type": "code",
   "execution_count": 3,
   "metadata": {},
   "outputs": [
    {
     "name": "stdout",
     "output_type": "stream",
     "text": [
      "['iguana', 'aguia-cinzenta', 'pony', 'giraffe', 'pheasant', 'tamandua-bandeira', 'squirrel', 'girl', 'kiwi', 'piranha', 'beetle', 'pato-de-crista', 'termite', 'dove', 'flamingo', 'mongoose', 'crocodile', 'urubu-rei', 'gull', 'seal', 'jacurutu', 'scorpion', 'vole', 'arara-azul', 'reindeer', 'macaco-aranha', 'deer', 'moth', 'silkworm', 'crab', 'porpoise', 'skua', 'jabuti', 'ladybird', 'newt', 'mono-carvoeiro', 'salamander', 'cheetah', 'hawk', 'perereca-de-alcatrazes', 'seasnake', 'octopus']\n"
     ]
    }
   ],
   "source": [
    "View_train()"
   ]
  },
  {
   "cell_type": "markdown",
   "metadata": {},
   "source": [
    "### <div id='id-section1'/>\n",
    "\n",
    "### Decision Tree:\n",
    "Resolve problemas de classificação, desenha “barreiras de decisão” (decision boundaries), ou seja, divide o dataset um determinado número de vezes com o objetivo de determinar aqual classe nossos objetos de estudo pertencem;  \n",
    "     Uma forma mais simples de pensar no que é uma decision tree é o clássico meme da chart de engenharia básica que aparece abaixo: <img src=\"./Img/Decision Tree img.jpg\" style=\"width=10rem;\"/>   \n",
    "Ou seja a partir  de perguntas que tem respostas binárias faz conclusões parciais calculando a chance de ir para cada um dos caminhos possíveis e novas perguntas, quanto mais perguntas, maior a profundidade da Decision Tree, e quanto mais profunda, maior é a sua acurácia. \n"
   ]
  },
  {
   "cell_type": "code",
   "execution_count": 4,
   "metadata": {},
   "outputs": [
    {
     "name": "stdout",
     "output_type": "stream",
     "text": [
      "Error halibut\n",
      "Error lizard\n",
      "Error flounder\n",
      "Error stingray\n",
      "Error urutu-cruzeiro\n",
      "Error lobster\n",
      "Error sauva-limao\n",
      "Error pike\n",
      "Error skink\n",
      "Error tracaja\n",
      "Error bicho-pau\n",
      "Error cobra-cipo\n",
      "Error dogfish\n",
      "Error jiboia\n",
      "Error gecko\n",
      "Error marlin\n",
      "Error slowworm\n",
      "Error sucuri\n",
      "Error raia-chita\n",
      "Error chameleon\n",
      "Error jacare-coroa\n",
      "Error mackerel\n",
      "Error jararaca-ilhoa\n",
      "Error sapo-de-chifre\n",
      "Error crayfish\n",
      "Error trout\n",
      "Error pirarucu\n",
      "Error tuatara\n",
      "Error barracuda\n",
      "Error pitviper\n",
      "Error tuna\n",
      "\n",
      "Numero de acertos: 141\n",
      "Número de erros: 31\n",
      "Porcentagem de acertos: 81.98%\n"
     ]
    },
    {
     "data": {
      "image/png": "[encoded data removed]",
      "text/plain": [
       "<Figure size 432x288 with 1 Axes>"
      ]
     },
     "metadata": {},
     "output_type": "display_data"
    }
   ],
   "source": [
    "erros,acertos = Previsão(DecisionTree,0)\n",
    "total_erros.append(erros); total_acertos.append(acertos)"
   ]
  },
  {
   "cell_type": "markdown",
   "metadata": {},
   "source": [
    "A Regressão Logística é uma técnica usada para solucionar problemas de classificação (binária ou multinominal), ou seja, ela é utilizada para responder questões que assumem as respostas como sendo de valor categórico, no nosso caso a Classe a qual a qual o animal pertence, a partir de um conjunto de variáveis independentes.\n",
    "Ela também pode ser vista como um caso específico de regressão linear com valor de saída(outcome) categórico, em que usamos o logarítimo das probabilidades de ocorrência como variáveis dependentes, ou seja prevê a probabilidade de ocorrência de um evento (no caso pertencer a uma classe) fazendo um fit com umas função Logit (logarítmica das probabilidades)"
   ]
  },
  {
   "cell_type": "code",
   "execution_count": 5,
   "metadata": {},
   "outputs": [
    {
     "name": "stdout",
     "output_type": "stream",
     "text": [
      "Error slug\n",
      "Error halibut\n",
      "Error sapo-cururu\n",
      "Error lizard\n",
      "Error spider\n",
      "Error flounder\n",
      "Error stingray\n",
      "Error worm\n",
      "Error pike\n",
      "Error skink\n",
      "Error tracaja\n",
      "Error bicho-pau\n",
      "Error cobra-cipo\n",
      "Error dogfish\n",
      "Error jiboia\n",
      "Error gecko\n",
      "Error marlin\n",
      "Error slowworm\n",
      "Error caranguejeira\n",
      "Error raia-chita\n",
      "Error frog\n",
      "Error chameleon\n",
      "Error jacare-coroa\n",
      "Error snail\n",
      "Error mackerel\n",
      "Error caracol-da-mata-atlantica\n",
      "Error sapo-de-chifre\n",
      "Error trout\n",
      "Error tuatara\n",
      "Error barracuda\n",
      "Error tuna\n",
      "\n",
      "Numero de acertos: 141\n",
      "Número de erros: 31\n",
      "Porcentagem de acertos: 81.98%\n"
     ]
    },
    {
     "data": {
      "image/png": "[encoded data removed]",
      "text/plain": [
       "<Figure size 432x288 with 1 Axes>"
      ]
     },
     "metadata": {},
     "output_type": "display_data"
    }
   ],
   "source": [
    "erros,acertos = Previsão(LogisticRegression,0,logistica=True)\n",
    "total_erros.append(erros); total_acertos.append(acertos)"
   ]
  },
  {
   "cell_type": "markdown",
   "metadata": {},
   "source": [
    "NaiveBayes Intro:\n",
    "Os métodos Naive Bayes são um grupo de algoritmos de aprendizado supervisionado aplicando o teorema de Bayes assumindo independencia condicional entre cada par de features dado o valor da variavel na classe\n"
   ]
  },
  {
   "cell_type": "code",
   "execution_count": 6,
   "metadata": {},
   "outputs": [
    {
     "name": "stdout",
     "output_type": "stream",
     "text": [
      "Error slug\n",
      "Error halibut\n",
      "Error lizard\n",
      "Error flounder\n",
      "Error stingray\n",
      "Error worm\n",
      "Error sauva-limao\n",
      "Error pike\n",
      "Error skink\n",
      "Error tracaja\n",
      "Error bicho-pau\n",
      "Error dogfish\n",
      "Error gecko\n",
      "Error marlin\n",
      "Error tortoise\n",
      "Error caranguejeira\n",
      "Error sucuri\n",
      "Error raia-chita\n",
      "Error chameleon\n",
      "Error jacare-coroa\n",
      "Error snail\n",
      "Error mackerel\n",
      "Error caracol-da-mata-atlantica\n",
      "Error sapo-de-chifre\n",
      "Error trout\n",
      "Error pirarucu\n",
      "Error tuatara\n",
      "Error barracuda\n",
      "Error tuna\n",
      "\n",
      "Numero de acertos: 143\n",
      "Número de erros: 29\n",
      "Porcentagem de acertos: 83.14%\n"
     ]
    },
    {
     "data": {
      "image/png": "[encoded data removed]",
      "text/plain": [
       "<Figure size 432x288 with 1 Axes>"
      ]
     },
     "metadata": {},
     "output_type": "display_data"
    }
   ],
   "source": [
    "erros,acertos = Previsão(BernoulliNB,0)\n",
    "total_erros.append(erros); total_acertos.append(acertos)"
   ]
  },
  {
   "cell_type": "code",
   "execution_count": 7,
   "metadata": {},
   "outputs": [
    {
     "name": "stdout",
     "output_type": "stream",
     "text": [
      "Error carp\n",
      "Error halibut\n",
      "Error sapo-cururu\n",
      "Error flounder\n",
      "Error stingray\n",
      "Error baiacu\n",
      "Error ra-flecha-azul\n",
      "Error sauva-limao\n",
      "Error anchovy\n",
      "Error tracaja\n",
      "Error bicho-pau\n",
      "Error marlin\n",
      "Error siren\n",
      "Error raia-chita\n",
      "Error frog\n",
      "Error jacare-coroa\n",
      "Error mackerel\n",
      "Error cascudinho-de-caverna\n",
      "Error sapo-de-chifre\n",
      "Error trout\n",
      "Error lambari\n",
      "\n",
      "Numero de acertos: 151\n",
      "Número de erros: 21\n",
      "Porcentagem de acertos: 87.79%\n"
     ]
    },
    {
     "data": {
      "image/png": "[encoded data removed]",
      "text/plain": [
       "<Figure size 432x288 with 1 Axes>"
      ]
     },
     "metadata": {},
     "output_type": "display_data"
    }
   ],
   "source": [
    "erros,acertos = Previsão(GaussianNB,0)\n",
    "total_erros.append(erros); total_acertos.append(acertos)"
   ]
  },
  {
   "cell_type": "code",
   "execution_count": 8,
   "metadata": {},
   "outputs": [
    {
     "name": "stdout",
     "output_type": "stream",
     "text": [
      "Error slug\n",
      "Error sapo-cururu\n",
      "Error lizard\n",
      "Error scallop\n",
      "Error jellyfish\n",
      "Error worm\n",
      "Error ra-flecha-azul\n",
      "Error sauva-limao\n",
      "Error skink\n",
      "Error tracaja\n",
      "Error bicho-pau\n",
      "Error cobra-cipo\n",
      "Error jiboia\n",
      "Error gecko\n",
      "Error clam\n",
      "Error tortoise\n",
      "Error slowworm\n",
      "Error caranguejeira\n",
      "Error squid\n",
      "Error frog\n",
      "Error chameleon\n",
      "Error jacare-coroa\n",
      "Error snail\n",
      "Error caracol-da-mata-atlantica\n",
      "Error sapo-de-chifre\n",
      "Error tuatara\n",
      "\n",
      "Numero de acertos: 146\n",
      "Número de erros: 26\n",
      "Porcentagem de acertos: 84.88%\n"
     ]
    },
    {
     "data": {
      "image/png": "[encoded data removed]",
      "text/plain": [
       "<Figure size 432x288 with 1 Axes>"
      ]
     },
     "metadata": {},
     "output_type": "display_data"
    }
   ],
   "source": [
    "erros,acertos = Previsão(MultinomialNB,0)\n",
    "total_erros.append(erros); total_acertos.append(acertos)"
   ]
  },
  {
   "cell_type": "code",
   "execution_count": 9,
   "metadata": {},
   "outputs": [
    {
     "data": {
      "image/png": "[encoded data removed]",
      "text/plain": [
       "<Figure size 432x288 with 1 Axes>"
      ]
     },
     "metadata": {
      "needs_background": "light"
     },
     "output_type": "display_data"
    }
   ],
   "source": [
    "classif = ['Tree','Logistic','Bernoulli','Gaussian','Multinomial']\n",
    "plt.bar(classif,total_acertos);\n",
    "plt.bar(classif,total_erros, bottom=total_acertos)\n",
    "plt.ylim((140,175));"
   ]
  },
  {
   "cell_type": "markdown",
   "metadata": {},
   "source": [
    " "
   ]
  }
 ],
 "metadata": {
  "kernelspec": {
   "display_name": "Python 3",
   "language": "python",
   "name": "python3"
  },
  "language_info": {
   "codemirror_mode": {
    "name": "ipython",
    "version": 3
   },
   "file_extension": ".py",
   "mimetype": "text/x-python",
   "name": "python",
   "nbconvert_exporter": "python",
   "pygments_lexer": "ipython3",
   "version": "3.7.1"
  }
 },
 "nbformat": 4,
 "nbformat_minor": 2
}
