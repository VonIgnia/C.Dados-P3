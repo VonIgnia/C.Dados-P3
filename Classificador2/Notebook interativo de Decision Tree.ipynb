{
 "cells": [
  {
   "cell_type": "code",
   "execution_count": 10,
   "metadata": {},
   "outputs": [],
   "source": [
    "import pandas as pd\n",
    "from ipywidgets import interact\n",
    "from sklearn.tree import DecisionTreeClassifier as DecisionTree"
   ]
  },
  {
   "cell_type": "code",
   "execution_count": 11,
   "metadata": {},
   "outputs": [],
   "source": [
    "# importando nosso dataset;\n",
    "zoo = pd.read_csv(\".\\Data\\zoo.csv\")     \n",
    "# características dos animais para o teste;\n",
    "inputs = zoo.drop(columns=[\"class_type\",\"animal_name\"])\n",
    "# resultado esperado;\n",
    "target = zoo[\"class_type\"]"
   ]
  },
  {
   "cell_type": "code",
   "execution_count": 12,
   "metadata": {},
   "outputs": [],
   "source": [
    "import import_ipynb\n",
    "from _Funções import Showtree\n",
    "from _Funções import Previsão"
   ]
  },
  {
   "cell_type": "code",
   "execution_count": 13,
   "metadata": {},
   "outputs": [
    {
     "data": {
      "application/vnd.jupyter.widget-view+json": {
       "model_id": "e99e5eea40764656b566753231d5ca60",
       "version_major": 2,
       "version_minor": 0
      },
      "text/plain": [
       "interactive(children=(IntSlider(value=5, description='k', max=16, min=3), Output()), _dom_classes=('widget-int…"
      ]
     },
     "metadata": {},
     "output_type": "display_data"
    }
   ],
   "source": [
    "@interact(k = (3,len(inputs.columns), 1))\n",
    "def f(k=5):\n",
    "    Previsão(DecisionTree,k,tree_upgrade=True);"
   ]
  },
  {
   "cell_type": "code",
   "execution_count": 15,
   "metadata": {},
   "outputs": [],
   "source": [
    "import matplotlib.pyplot as plt"
   ]
  },
  {
   "cell_type": "code",
   "execution_count": 16,
   "metadata": {},
   "outputs": [
    {
     "data": {
      "image/png": "[encoded data removed]",
      "text/plain": [
       "<Figure size 432x288 with 1 Axes>"
      ]
     },
     "metadata": {
      "needs_background": "light"
     },
     "output_type": "display_data"
    }
   ],
   "source": [
    "lista_k=[]\n",
    "lista_erros=[]\n",
    "lista_acertos=[]\n",
    "for k in range (1,len(inputs.columns)):\n",
    "    acertos=0\n",
    "    model = DecisionTree(max_depth=k)\n",
    "    model.fit(inputs,target);\n",
    "    model.score(inputs,target);\n",
    "    for i in range(len(zoo)):\n",
    "        if (model.predict([inputs.iloc[i]])[0])==(zoo.iloc[i]['class_type']):\n",
    "            acertos+=1\n",
    "    erros=len(zoo)-acertos\n",
    "    lista_k.append(k)\n",
    "    lista_erros.append(erros)\n",
    "    lista_acertos.append(acertos)\n",
    "plt.plot(lista_k,lista_acertos,color=\"#459035\",marker=\".\",label=\"acertos\")\n",
    "plt.plot(lista_k,lista_erros,color=\"#8F111D\",marker=\".\",label=\"erros\")\n",
    "plt.xlabel(\"Profundidade da Decision Tree\");\n",
    "plt.ylabel(\"Resultados\");\n",
    "plt.legend();"
   ]
  },
  {
   "cell_type": "code",
   "execution_count": null,
   "metadata": {},
   "outputs": [],
   "source": []
  }
 ],
 "metadata": {
  "kernelspec": {
   "display_name": "Python 3",
   "language": "python",
   "name": "python3"
  },
  "language_info": {
   "codemirror_mode": {
    "name": "ipython",
    "version": 3
   },
   "file_extension": ".py",
   "mimetype": "text/x-python",
   "name": "python",
   "nbconvert_exporter": "python",
   "pygments_lexer": "ipython3",
   "version": "3.7.1"
  }
 },
 "nbformat": 4,
 "nbformat_minor": 2
}
