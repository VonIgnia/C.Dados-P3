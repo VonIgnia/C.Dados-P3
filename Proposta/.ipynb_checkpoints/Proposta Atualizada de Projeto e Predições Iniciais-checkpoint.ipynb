{
 "cells": [
  {
   "cell_type": "markdown",
   "metadata": {},
   "source": [
    "## Projeto 3 C.Dados\n",
    "\n",
    "- Daniel Gurgel Terra\n",
    "- Giovanni Rozatti"
   ]
  },
  {
   "cell_type": "markdown",
   "metadata": {},
   "source": [
    "### Dataset de Animais\n",
    "\n",
    "**Proposta:**\n",
    "\n",
    "Fazer a leitura do dataset de características físicas dos animais e a partir disso estabelecer a Classe a qual o animal pertence\n",
    "\n",
    "(Exemplo de classe:\"Mamífero\")\n",
    "\n",
    "**Datasets encontrados:**\n",
    "\n",
    "https://www.kaggle.com/uciml/zoo-animal-classification#zoo.csv\n",
    "https://www.kaggle.com/agajorte/zoo-animals-extended-dataset#zoo3.csv\n",
    "\n",
    "**Técnicas utilizadas**\n",
    "\n",
    "1. Multinomial Naive Bayes (Pré entrega C)\n",
    "- Decision Tree (Entrega valendo B)\n",
    "- Clusterização (Entrega valendo B)\n",
    "- Linear Regression (Entrega valendo A)\n",
    "- Neural Network (Entrega Bonus)"
   ]
  },
  {
   "cell_type": "code",
   "execution_count": null,
   "metadata": {},
   "outputs": [],
   "source": []
  }
 ],
 "metadata": {
  "kernelspec": {
   "display_name": "Python 3",
   "language": "python",
   "name": "python3"
  },
  "language_info": {
   "codemirror_mode": {
    "name": "ipython",
    "version": 3
   },
   "file_extension": ".py",
   "mimetype": "text/x-python",
   "name": "python",
   "nbconvert_exporter": "python",
   "pygments_lexer": "ipython3",
   "version": "3.7.1"
  }
 },
 "nbformat": 4,
 "nbformat_minor": 2
}
