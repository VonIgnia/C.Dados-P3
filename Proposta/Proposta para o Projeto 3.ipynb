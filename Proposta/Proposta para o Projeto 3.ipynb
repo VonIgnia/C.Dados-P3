{
 "cells": [
  {
   "cell_type": "markdown",
   "metadata": {},
   "source": [
    "## Opções Principais"
   ]
  },
  {
   "cell_type": "markdown",
   "metadata": {},
   "source": [
    "### Pokémons\n",
    "\n",
    "Opções de problema:\n",
    "1. Descobrir pokémon a partir de características de uma pessoa (\"testes do buzzfeed\") - Variáveis qualitativas\n",
    "- Ver quais pokemons, seu \"pokémon espiritual\" derrotaria. - Variável quantitativa\n",
    "- Ver qual o melhor pokemón/times de pokémon para enfrentar um pokémon específico - Variável quantitativa\n",
    "\n",
    "Técnicas de resolução pra cada problema:\n",
    "1. Naive Bayes ( associação de características a habilidades e tipos, Exemplo: Tímido >> Pokémon tipo fantasma)\n",
    "- Clusterização\n",
    "\n",
    "\n",
    "Datasets obtidos em: \n",
    "- https://www.kaggle.com/n2cholas/competitive-pokemon-dataset#pokemon-data.csv\n",
    "- https://www.kaggle.com/n2cholas/competitive-pokemon-dataset#move-data.csv"
   ]
  },
  {
   "cell_type": "markdown",
   "metadata": {},
   "source": [
    "### Acidentes de trânsito\n",
    "\n",
    "Opções de Problema:\n",
    "1. Fazer estimativas e Predições de Acidentes em São Paulo, que ocorram em rodovias,sendo do tipo \"Choques/Colisões\" - Variável quantitativa\n",
    "- Comparaçao entre Tipos de Veículo (\"Qual é o mais mortal?\"),(Em quais meses há maior ocorrencia de acidentes?)  - Variáveis quantitatvas\n",
    "\n",
    "Técnicas de resolução pra cada problema:\n",
    "1. Regressão Linear para estipular o comportamento do acidentes de trânsito do Estado em função de locais específicos\n",
    "- Regressão Linear para estipular o comportamento do acidentes de trânsito do Estado em função do mês corrente e veículo dirigido\n",
    "\n",
    "Datasets obtidos em: \n",
    "- http://www.infosiga.sp.gov.br/Home/Relatorio"
   ]
  },
  {
   "cell_type": "markdown",
   "metadata": {},
   "source": [
    "## Extras/Opções Secundárias"
   ]
  },
  {
   "cell_type": "markdown",
   "metadata": {},
   "source": [
    "### Criminalidade em São Paulo - Variável Quantitativa:\n",
    "1. Fazer estimativas e Predições de Crimes em São Paulo- Variável quantitativa\n",
    "\n",
    "Técnicas de resolução pra cada problema:\n",
    "1. Regressão Linear para estipular o comportamento da violência do Munícipio\n",
    "\n",
    "Datasets obtidos em: \n",
    "- http://www.ssp.sp.gov.br/estatistica/pesquisa.aspx"
   ]
  },
  {
   "cell_type": "markdown",
   "metadata": {},
   "source": [
    "### Aliens entre nós:\n",
    "\n",
    "- A procura de dados e datasets relevantes e confiáveis."
   ]
  },
  {
   "cell_type": "markdown",
   "metadata": {},
   "source": [
    " "
   ]
  }
 ],
 "metadata": {
  "kernelspec": {
   "display_name": "Python 3",
   "language": "python",
   "name": "python3"
  },
  "language_info": {
   "codemirror_mode": {
    "name": "ipython",
    "version": 3
   },
   "file_extension": ".py",
   "mimetype": "text/x-python",
   "name": "python",
   "nbconvert_exporter": "python",
   "pygments_lexer": "ipython3",
   "version": "3.7.1"
  }
 },
 "nbformat": 4,
 "nbformat_minor": 2
}
