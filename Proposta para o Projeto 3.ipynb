{
 "cells": [
  {
   "attachments": {},
   "cell_type": "markdown",
   "metadata": {},
   "source": [
    "Opções de problema:\n",
    "- Descobrir pokémon a partir de características de uma pessoa (\"testes do buzzfeed\")\n",
    "- Ver qual o melhor pokemón/times de pokémon para enfrentar um pokémon específico\n",
    "- Ver quais pokemons, seu pokémon espiritual derrotaria.\n",
    "- Qual o \"melhor pokémon\"\n",
    "\n",
    "Datasets obtidos em: \n",
    "- https://www.kaggle.com/n2cholas/competitive-pokemon-dataset#pokemon-data.csv\n",
    "- https://www.kaggle.com/n2cholas/competitive-pokemon-dataset#move-data.csv"
   ]
  },
  {
   "cell_type": "code",
   "execution_count": null,
   "metadata": {},
   "outputs": [],
   "source": []
  }
 ],
 "metadata": {
  "kernelspec": {
   "display_name": "Python 3",
   "language": "python",
   "name": "python3"
  },
  "language_info": {
   "codemirror_mode": {
    "name": "ipython",
    "version": 3
   },
   "file_extension": ".py",
   "mimetype": "text/x-python",
   "name": "python",
   "nbconvert_exporter": "python",
   "pygments_lexer": "ipython3",
   "version": "3.7.1"
  }
 },
 "nbformat": 4,
 "nbformat_minor": 2
}
