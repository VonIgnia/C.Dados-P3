{
 "cells": [
  {
   "cell_type": "markdown",
   "metadata": {},
   "source": [
    "## Projeto 3 C.Dados\n",
    "\n",
    "- Daniel Gurgel Terra\n",
    "- Giovanni Rozatti"
   ]
  },
  {
   "cell_type": "markdown",
   "metadata": {},
   "source": [
    "**Método de classificação nesse Notebook:** Clusterização por *K-means*"
   ]
  },
  {
   "cell_type": "code",
   "execution_count": 10,
   "metadata": {},
   "outputs": [],
   "source": [
    "import pandas as pd\n",
    "import matplotlib.pyplot as plt\n",
    "import numpy as np\n",
    "from sklearn.cluster import KMeans\n",
    "zoo = pd.read_csv(\".\\Data\\zoo.csv\")"
   ]
  },
  {
   "cell_type": "code",
   "execution_count": 24,
   "metadata": {},
   "outputs": [],
   "source": [
    "linhas=np.array(zoo.to_records().view(type=np.matrix))[0]\n",
    "#gera uma array contendo as infos de cada linha dentro de uma lista de comprimento 1\n",
    "matriz = []\n",
    "for i in range(len(linhas)):\n",
    "    linha = linhas[i]\n",
    "    linha = list(linha)\n",
    "    linha = linha[2:]\n",
    "    matriz.append(linha)\n",
    "matriz = np.array(matriz)"
   ]
  },
  {
   "cell_type": "code",
   "execution_count": 25,
   "metadata": {},
   "outputs": [],
   "source": [
    "kmeans     = KMeans(n_clusters=7)\n",
    "KMmodelo   = kmeans.fit(matriz)\n",
    "#transformar linha em uma estrutura de array do tipo([valor,valor])\n",
    "categorias = KMmodelo.labels_\n",
    "centro_KM  = KMmodelo.cluster_centers_"
   ]
  },
  {
   "cell_type": "code",
   "execution_count": 26,
   "metadata": {},
   "outputs": [
    {
     "data": {
      "text/plain": [
       "True"
      ]
     },
     "execution_count": 26,
     "metadata": {},
     "output_type": "execute_result"
    }
   ],
   "source": [
    "len(matriz) == len(categorias)"
   ]
  },
  {
   "cell_type": "code",
   "execution_count": 28,
   "metadata": {},
   "outputs": [],
   "source": [
    "##pd.crosstab(matriz,categorias) #erro de tamanho dos arrays - perguntar"
   ]
  },
  {
   "cell_type": "code",
   "execution_count": null,
   "metadata": {},
   "outputs": [],
   "source": []
  }
 ],
 "metadata": {
  "kernelspec": {
   "display_name": "Python 3",
   "language": "python",
   "name": "python3"
  },
  "language_info": {
   "codemirror_mode": {
    "name": "ipython",
    "version": 3
   },
   "file_extension": ".py",
   "mimetype": "text/x-python",
   "name": "python",
   "nbconvert_exporter": "python",
   "pygments_lexer": "ipython3",
   "version": "3.7.1"
  }
 },
 "nbformat": 4,
 "nbformat_minor": 2
}
