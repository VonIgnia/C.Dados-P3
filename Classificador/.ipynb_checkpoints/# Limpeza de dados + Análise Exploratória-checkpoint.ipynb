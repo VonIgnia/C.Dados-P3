{
 "cells": [
  {
   "cell_type": "markdown",
   "metadata": {},
   "source": [
    "## Projeto 3 C.Dados\n",
    "\n",
    "- Daniel Gurgel Terra\n",
    "- Giovanni Rozatti\n",
    "- Rafael Zanfolin"
   ]
  },
  {
   "cell_type": "markdown",
   "metadata": {},
   "source": [
    "**Notebook de limpeza:**"
   ]
  },
  {
   "cell_type": "code",
   "execution_count": 11,
   "metadata": {},
   "outputs": [],
   "source": [
    "import pandas as pd\n",
    "import numpy as np\n",
    "import matplotlib.pyplot as plt"
   ]
  },
  {
   "cell_type": "code",
   "execution_count": 12,
   "metadata": {},
   "outputs": [
    {
     "data": {
      "text/html": [
       "<div>\n",
       "<style scoped>\n",
       "    .dataframe tbody tr th:only-of-type {\n",
       "        vertical-align: middle;\n",
       "    }\n",
       "\n",
       "    .dataframe tbody tr th {\n",
       "        vertical-align: top;\n",
       "    }\n",
       "\n",
       "    .dataframe thead th {\n",
       "        text-align: right;\n",
       "    }\n",
       "</style>\n",
       "<table border=\"1\" class=\"dataframe\">\n",
       "  <thead>\n",
       "    <tr style=\"text-align: right;\">\n",
       "      <th></th>\n",
       "      <th>hair</th>\n",
       "      <th>feathers</th>\n",
       "      <th>eggs</th>\n",
       "      <th>milk</th>\n",
       "      <th>airborne</th>\n",
       "      <th>aquatic</th>\n",
       "      <th>predator</th>\n",
       "      <th>toothed</th>\n",
       "      <th>backbone</th>\n",
       "      <th>breathes</th>\n",
       "      <th>venomous</th>\n",
       "      <th>fins</th>\n",
       "      <th>legs</th>\n",
       "      <th>tail</th>\n",
       "      <th>domestic</th>\n",
       "      <th>catsize</th>\n",
       "      <th>class_type</th>\n",
       "    </tr>\n",
       "    <tr>\n",
       "      <th>animal_name</th>\n",
       "      <th></th>\n",
       "      <th></th>\n",
       "      <th></th>\n",
       "      <th></th>\n",
       "      <th></th>\n",
       "      <th></th>\n",
       "      <th></th>\n",
       "      <th></th>\n",
       "      <th></th>\n",
       "      <th></th>\n",
       "      <th></th>\n",
       "      <th></th>\n",
       "      <th></th>\n",
       "      <th></th>\n",
       "      <th></th>\n",
       "      <th></th>\n",
       "      <th></th>\n",
       "    </tr>\n",
       "  </thead>\n",
       "  <tbody>\n",
       "    <tr>\n",
       "      <th>aardvark</th>\n",
       "      <td>1</td>\n",
       "      <td>0</td>\n",
       "      <td>0</td>\n",
       "      <td>1</td>\n",
       "      <td>0</td>\n",
       "      <td>0</td>\n",
       "      <td>1</td>\n",
       "      <td>1</td>\n",
       "      <td>1</td>\n",
       "      <td>1</td>\n",
       "      <td>0</td>\n",
       "      <td>0</td>\n",
       "      <td>4</td>\n",
       "      <td>0</td>\n",
       "      <td>0</td>\n",
       "      <td>1</td>\n",
       "      <td>1</td>\n",
       "    </tr>\n",
       "    <tr>\n",
       "      <th>antelope</th>\n",
       "      <td>1</td>\n",
       "      <td>0</td>\n",
       "      <td>0</td>\n",
       "      <td>1</td>\n",
       "      <td>0</td>\n",
       "      <td>0</td>\n",
       "      <td>0</td>\n",
       "      <td>1</td>\n",
       "      <td>1</td>\n",
       "      <td>1</td>\n",
       "      <td>0</td>\n",
       "      <td>0</td>\n",
       "      <td>4</td>\n",
       "      <td>1</td>\n",
       "      <td>0</td>\n",
       "      <td>1</td>\n",
       "      <td>1</td>\n",
       "    </tr>\n",
       "    <tr>\n",
       "      <th>bass</th>\n",
       "      <td>0</td>\n",
       "      <td>0</td>\n",
       "      <td>1</td>\n",
       "      <td>0</td>\n",
       "      <td>0</td>\n",
       "      <td>1</td>\n",
       "      <td>1</td>\n",
       "      <td>1</td>\n",
       "      <td>1</td>\n",
       "      <td>0</td>\n",
       "      <td>0</td>\n",
       "      <td>1</td>\n",
       "      <td>0</td>\n",
       "      <td>1</td>\n",
       "      <td>0</td>\n",
       "      <td>0</td>\n",
       "      <td>4</td>\n",
       "    </tr>\n",
       "    <tr>\n",
       "      <th>bear</th>\n",
       "      <td>1</td>\n",
       "      <td>0</td>\n",
       "      <td>0</td>\n",
       "      <td>1</td>\n",
       "      <td>0</td>\n",
       "      <td>0</td>\n",
       "      <td>1</td>\n",
       "      <td>1</td>\n",
       "      <td>1</td>\n",
       "      <td>1</td>\n",
       "      <td>0</td>\n",
       "      <td>0</td>\n",
       "      <td>4</td>\n",
       "      <td>0</td>\n",
       "      <td>0</td>\n",
       "      <td>1</td>\n",
       "      <td>1</td>\n",
       "    </tr>\n",
       "    <tr>\n",
       "      <th>boar</th>\n",
       "      <td>1</td>\n",
       "      <td>0</td>\n",
       "      <td>0</td>\n",
       "      <td>1</td>\n",
       "      <td>0</td>\n",
       "      <td>0</td>\n",
       "      <td>1</td>\n",
       "      <td>1</td>\n",
       "      <td>1</td>\n",
       "      <td>1</td>\n",
       "      <td>0</td>\n",
       "      <td>0</td>\n",
       "      <td>4</td>\n",
       "      <td>1</td>\n",
       "      <td>0</td>\n",
       "      <td>1</td>\n",
       "      <td>1</td>\n",
       "    </tr>\n",
       "  </tbody>\n",
       "</table>\n",
       "</div>"
      ],
      "text/plain": [
       "             hair  feathers  eggs  milk  airborne  aquatic  predator  toothed  \\\n",
       "animal_name                                                                     \n",
       "aardvark        1         0     0     1         0        0         1        1   \n",
       "antelope        1         0     0     1         0        0         0        1   \n",
       "bass            0         0     1     0         0        1         1        1   \n",
       "bear            1         0     0     1         0        0         1        1   \n",
       "boar            1         0     0     1         0        0         1        1   \n",
       "\n",
       "             backbone  breathes  venomous  fins  legs  tail  domestic  \\\n",
       "animal_name                                                             \n",
       "aardvark            1         1         0     0     4     0         0   \n",
       "antelope            1         1         0     0     4     1         0   \n",
       "bass                1         0         0     1     0     1         0   \n",
       "bear                1         1         0     0     4     0         0   \n",
       "boar                1         1         0     0     4     1         0   \n",
       "\n",
       "             catsize  class_type  \n",
       "animal_name                       \n",
       "aardvark           1           1  \n",
       "antelope           1           1  \n",
       "bass               0           4  \n",
       "bear               1           1  \n",
       "boar               1           1  "
      ]
     },
     "execution_count": 12,
     "metadata": {},
     "output_type": "execute_result"
    }
   ],
   "source": [
    "zoo1 = pd.read_csv(\".\\Data\\zoo1.csv\")\n",
    "zoo2 = pd.read_csv(\".\\Data\\zoo2.csv\")\n",
    "zoo3 = pd.read_csv(\".\\Data\\zoo3.csv\")\n",
    "\n",
    "zoo = pd.concat([zoo1,zoo2,zoo3]).reset_index().drop(columns='index') # Junta os df e reindexa-os\n",
    "zoo.to_csv('.\\Data\\zoo.csv',index=False)\n",
    "zoo = zoo.set_index(zoo['animal_name'])\n",
    "del zoo['animal_name']\n",
    "zoo.head()"
   ]
  },
  {
   "cell_type": "markdown",
   "metadata": {},
   "source": [
    "**Classes**"
   ]
  },
  {
   "cell_type": "code",
   "execution_count": 13,
   "metadata": {},
   "outputs": [],
   "source": [
    "Classification = {\"Mammal\":1, \"Bird\":2, \"Reptile\":3, \"Fish\":4, \"Anphibian\":5, \"Bug\":6, \"Invertebrate\":7}"
   ]
  },
  {
   "cell_type": "code",
   "execution_count": 14,
   "metadata": {
    "scrolled": true
   },
   "outputs": [
    {
     "data": {
      "image/png": "[encoded data removed]",
      "text/plain": [
       "<Figure size 432x288 with 1 Axes>"
      ]
     },
     "metadata": {
      "needs_background": "light"
     },
     "output_type": "display_data"
    }
   ],
   "source": [
    "classes = list(Classification.keys())\n",
    "count = zoo.class_type.value_counts()\n",
    "plt.grid(True)\n",
    "plt.bar(classes, count);"
   ]
  },
  {
   "cell_type": "markdown",
   "metadata": {},
   "source": [
    "**Características de cada classe**"
   ]
  },
  {
   "cell_type": "code",
   "execution_count": 15,
   "metadata": {},
   "outputs": [],
   "source": [
    "caracteristicas = list(zoo.columns)\n",
    "caracteristicas.remove('class_type')\n",
    "caracteristicas.remove('legs')\n",
    "\n",
    "def contagens(tipo):\n",
    "    contagem = []\n",
    "    df = zoo[zoo.class_type==tipo]\n",
    "    for coluna in caracteristicas:\n",
    "        counts=df[coluna].value_counts()\n",
    "        if 1 in counts.index:\n",
    "#Divide nºde animais na classe que contém determinado atributo pelo número total de animais na classe: \n",
    "#(percentual da classe que possui determinada característica)\n",
    "            contagem.append(counts[1]/counts.sum()) \n",
    "        else:\n",
    "            contagem.append(0.02)\n",
    "    return contagem\n",
    "\n",
    "mammal = contagens(1)\n",
    "bird = contagens(2)\n",
    "reptile = contagens(3)\n",
    "fish = contagens(4)\n",
    "anphibian = contagens(5)\n",
    "bug = contagens(6)\n",
    "invertebrate = contagens(7)"
   ]
  },
  {
   "cell_type": "code",
   "execution_count": 16,
   "metadata": {},
   "outputs": [
    {
     "data": {
      "image/png": "[encoded data removed]",
      "text/plain": [
       "<Figure size 1800x360 with 1 Axes>"
      ]
     },
     "metadata": {
      "needs_background": "light"
     },
     "output_type": "display_data"
    }
   ],
   "source": [
    "# Caracteristics\n",
    "barWidth = .1\n",
    "plt.figure(figsize=(25,5))\n",
    "\n",
    "# Set position of bar on X axis\n",
    "r1 = np.arange(len(mammal))-.2\n",
    "r2 = [x + barWidth for x in r1]\n",
    "r3 = [x + barWidth for x in r2]\n",
    "r4 = [x + barWidth for x in r3]\n",
    "r5 = [x + barWidth for x in r4]\n",
    "r6 = [x + barWidth for x in r5]\n",
    "r7 = [x + barWidth for x in r6]\n",
    "\n",
    "# Make the plot\n",
    "plt.bar(r1, mammal, color='#000080', width=barWidth, edgecolor='white', label='Mammal')\n",
    "plt.bar(r2, bird, color='#B0DFE5', width=barWidth, edgecolor='blue', label='Bird')\n",
    "plt.bar(r3, reptile,color='#0F52BA', width=barWidth, edgecolor='white', label='Reptile')\n",
    "plt.bar(r4, fish, color='#4682B4', width=barWidth, edgecolor='white', label='Fish')\n",
    "plt.bar(r5, anphibian, color='#003152', width=barWidth, edgecolor='white', label='Anphibian')\n",
    "plt.bar(r6, bug, color='b', width=barWidth, edgecolor='white', label='Bug')\n",
    "plt.bar(r7, invertebrate, color='#4C516D', width=barWidth, edgecolor='white', label='Invertebrate')\n",
    " \n",
    "# Add xticks on the middle of the group bars\n",
    "plt.xlabel('Animals', fontweight='bold')\n",
    "plt.xticks([r + barWidth for r in range(len(mammal))], caracteristicas)\n",
    " \n",
    "# Create legend & Show graphic\n",
    "plt.legend(title=\"Legenda\", fontsize='large',loc='best', bbox_to_anchor=(1.1, 0.75, 0, 0),\n",
    "           shadow=True,fancybox=True,)\n",
    "plt.show()"
   ]
  },
  {
   "cell_type": "code",
   "execution_count": 17,
   "metadata": {},
   "outputs": [
    {
     "data": {
      "image/png": "[encoded data removed]",
      "text/plain": [
       "<Figure size 432x288 with 1 Axes>"
      ]
     },
     "metadata": {
      "needs_background": "light"
     },
     "output_type": "display_data"
    }
   ],
   "source": [
    "patas = zoo.legs.value_counts()\n",
    "plt.bar(patas.index, patas, color=\"#000080\",edgecolor=\"blue\");"
   ]
  }
 ],
 "metadata": {
  "kernelspec": {
   "display_name": "Python 3",
   "language": "python",
   "name": "python3"
  },
  "language_info": {
   "codemirror_mode": {
    "name": "ipython",
    "version": 3
   },
   "file_extension": ".py",
   "mimetype": "text/x-python",
   "name": "python",
   "nbconvert_exporter": "python",
   "pygments_lexer": "ipython3",
   "version": "3.7.1"
  }
 },
 "nbformat": 4,
 "nbformat_minor": 2
}
