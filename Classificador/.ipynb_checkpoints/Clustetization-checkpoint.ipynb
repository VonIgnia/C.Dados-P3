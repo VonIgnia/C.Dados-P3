{
 "cells": [
  {
   "cell_type": "markdown",
   "metadata": {},
   "source": [
    "## Projeto 3 C.Dados\n",
    "\n",
    "- Daniel Gurgel Terra\n",
    "- Giovanni Rozatti"
   ]
  },
  {
   "cell_type": "markdown",
   "metadata": {},
   "source": [
    "**Método de classificação nesse Notebook:** Clusterização por *K-means*"
   ]
  },
  {
   "cell_type": "code",
   "execution_count": 1,
   "metadata": {},
   "outputs": [],
   "source": [
    "import pandas as pd\n",
    "import matplotlib.pyplot as plt\n",
    "import numpy as np\n",
    "from sklearn.cluster import KMeans"
   ]
  },
  {
   "cell_type": "code",
   "execution_count": 2,
   "metadata": {},
   "outputs": [],
   "source": [
    "#with open(\"Limpeza de dados.ipynb\"),r as Dataframe  \n",
    "###Tentando ler o arquivo de limpeza para extrair o DataFrame###\n",
    "zoo1 = pd.read_csv(\".\\Data\\zoo1.csv\")\n",
    "zoo2 = pd.read_csv(\".\\Data\\zoo2.csv\")\n",
    "zoo3 = pd.read_csv(\".\\Data\\zoo3.csv\")\n",
    "zoo  = pd.concat([zoo1,zoo2,zoo3]).reset_index().drop(columns='index') # Junta os df e reindexa-os"
   ]
  },
  {
   "cell_type": "code",
   "execution_count": 3,
   "metadata": {},
   "outputs": [
    {
     "data": {
      "text/plain": [
       "array([[1, 0, 0, ..., 0, 1, 1],\n",
       "       [1, 0, 0, ..., 0, 1, 1],\n",
       "       [0, 0, 1, ..., 0, 0, 4],\n",
       "       ...,\n",
       "       [0, 0, 1, ..., 0, 0, 7],\n",
       "       [1, 0, 1, ..., 0, 0, 7],\n",
       "       [1, 0, 1, ..., 0, 0, 7]], dtype=int64)"
      ]
     },
     "execution_count": 3,
     "metadata": {},
     "output_type": "execute_result"
    }
   ],
   "source": [
    "linhas=np.array(zoo.to_records().view(type=np.matrix))[0]\n",
    "#gera uma array contendo as infos de cada linha dentro de uma lista de comprimento 1\n",
    "matriz = []\n",
    "for i in range(len(linhas)):\n",
    "    linha = linhas[i]\n",
    "    linha = list(linha)\n",
    "    linha = linha[2:]\n",
    "    linha = np.array(linha)\n",
    "    matriz.append(linha)\n",
    "np.array(matriz)"
   ]
  },
  {
   "cell_type": "code",
   "execution_count": 4,
   "metadata": {},
   "outputs": [],
   "source": [
    "kmeans     = KMeans(n_clusters=7)\n",
    "KMmodelo   = kmeans.fit(matriz)\n",
    "#transformar linha em uma estrutura de array do tipo([valor,valor])\n",
    "categorias = KMmodelo.labels_\n",
    "centro_KM  = KMmodelo.cluster_centers_"
   ]
  },
  {
   "cell_type": "code",
   "execution_count": 5,
   "metadata": {},
   "outputs": [
    {
     "data": {
      "text/plain": [
       "True"
      ]
     },
     "execution_count": 5,
     "metadata": {},
     "output_type": "execute_result"
    }
   ],
   "source": [
    "len(matriz) == len(categorias)"
   ]
  },
  {
   "cell_type": "code",
   "execution_count": 7,
   "metadata": {},
   "outputs": [],
   "source": [
    "#pd.crosstab(matriz,categorias) #erro de tamanho dos arrays - perguntar"
   ]
  }
 ],
 "metadata": {
  "kernelspec": {
   "display_name": "Python 3",
   "language": "python",
   "name": "python3"
  },
  "language_info": {
   "codemirror_mode": {
    "name": "ipython",
    "version": 3
   },
   "file_extension": ".py",
   "mimetype": "text/x-python",
   "name": "python",
   "nbconvert_exporter": "python",
   "pygments_lexer": "ipython3",
   "version": "3.7.1"
  }
 },
 "nbformat": 4,
 "nbformat_minor": 2
}
