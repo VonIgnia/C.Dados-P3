{
 "cells": [
  {
   "cell_type": "code",
   "execution_count": 1,
   "metadata": {},
   "outputs": [],
   "source": [
    "import numpy as np\n",
    "import pandas as pd\n",
    "import matplotlib.pyplot as plt\n",
    "\n",
    "import sklearn\n",
    "from sklearn.cluster import KMeans\n",
    "from sklearn.preprocessing import scale"
   ]
  },
  {
   "cell_type": "markdown",
   "metadata": {},
   "source": [
    "**Células para excluir na versão final:**  \n",
    "Tutorial encontrado em: https://www.youtube.com/watch?v=ikt0sny_ImY&t=40s"
   ]
  },
  {
   "cell_type": "code",
   "execution_count": 2,
   "metadata": {},
   "outputs": [],
   "source": [
    "from sklearn import datasets\n",
    "iris = datasets.load_iris()\n",
    "iris_df=pd.DataFrame(iris.data)\n",
    "y_exemplo=pd.DataFrame(iris.target)\n",
    "y_exemplo.head(1)\n",
    "iris.target; # formato: uma lista com todos os valores de \"tipo de flor\" (equivalente a animal_class)"
   ]
  },
  {
   "cell_type": "code",
   "execution_count": 3,
   "metadata": {},
   "outputs": [],
   "source": [
    "iris_df; #no nosso trata-se do Dataframe com a exclusão da coluna de animal_name e class_type\n",
    "iris_df.columns=[\"SL\",\"SW\",\"PL\",\"PW\"] # renomear colunas pois o df do sklearn n possui"
   ]
  },
  {
   "cell_type": "code",
   "execution_count": 4,
   "metadata": {},
   "outputs": [],
   "source": [
    "y_exemplo; #no nosso dataframe(zoo), \"target\" é o equivalente a class_type, e portanto y será um DataFrame com \n",
    "   #a coluna class_type e somente a coluna class_type"
   ]
  },
  {
   "cell_type": "code",
   "execution_count": 5,
   "metadata": {},
   "outputs": [],
   "source": [
    "X_exemplo=scale(iris.data)#Standardize a dataset along any axis; \n",
    "                  #Center to the mean and component wise scale to unit variance.\n",
    "type(iris.data[0][0]);"
   ]
  },
  {
   "cell_type": "code",
   "execution_count": 6,
   "metadata": {},
   "outputs": [],
   "source": [
    "clustering_exemplo = KMeans(n_clusters=3,random_state=6)#Nesse caso o n_clusters é 3 pois existem \n",
    "                                                #3 classificações para flores no nosso serão 7\n",
    "KMmodelo   = clustering_exemplo.fit(X_exemplo)\n",
    "color_theme = np.array([\"darkgray\",\"darkblue\",\"red\"])"
   ]
  },
  {
   "cell_type": "code",
   "execution_count": 7,
   "metadata": {},
   "outputs": [
    {
     "data": {
      "text/plain": [
       "<matplotlib.collections.PathCollection at 0x19b7a006438>"
      ]
     },
     "execution_count": 7,
     "metadata": {},
     "output_type": "execute_result"
    },
    {
     "data": {
      "image/png": "[encoded data removed]",
      "text/plain": [
       "<Figure size 432x288 with 2 Axes>"
      ]
     },
     "metadata": {
      "needs_background": "light"
     },
     "output_type": "display_data"
    }
   ],
   "source": [
    "plt.subplot(1,2,1)\n",
    "plt.scatter(iris_df.PL,iris_df.PW,c=color_theme[iris.target],s=15)\n",
    "#s indica o tamanho da bolinha\n",
    "plt.subplot(1,2,2)\n",
    "plt.scatter(iris_df.PL,iris_df.PW,c=color_theme[clustering_exemplo.labels_],s=15)"
   ]
  },
  {
   "cell_type": "code",
   "execution_count": 8,
   "metadata": {},
   "outputs": [
    {
     "data": {
      "image/png": "[encoded data removed]",
      "text/plain": [
       "<Figure size 432x288 with 1 Axes>"
      ]
     },
     "metadata": {
      "needs_background": "light"
     },
     "output_type": "display_data"
    }
   ],
   "source": [
    "plt.scatter(iris_df.PL,iris_df.PW);"
   ]
  },
  {
   "cell_type": "markdown",
   "metadata": {},
   "source": [
    "**Células pra manter na versão final:**"
   ]
  },
  {
   "cell_type": "code",
   "execution_count": 9,
   "metadata": {},
   "outputs": [],
   "source": [
    "zoo = pd.read_csv(\".\\Data\\zoo.csv\")     #importando nosso dataset;\n",
    "zoo = zoo.drop(columns=\"animal_name\")   #eliminando animal_name, pois n influencia na classe \n",
    "                                        #e nem pode ser quantificado\n",
    "y=pd.DataFrame(zoo.class_type)          #extrai class type real para teste de acuracia do nosso cluster\n",
    "zoo = zoo.drop(columns=\"class_type\")    #exclui class type da planilha avaliada evitando poluição de dados e erros\n",
    "\n",
    "for column in list(zoo.columns):\n",
    "    zoo[column] = zoo[column].astype(float)"
   ]
  },
  {
   "cell_type": "code",
   "execution_count": 10,
   "metadata": {},
   "outputs": [],
   "source": [
    "zoo_array=np.array(zoo)"
   ]
  },
  {
   "cell_type": "code",
   "execution_count": 11,
   "metadata": {},
   "outputs": [],
   "source": [
    "#verificação se zoo_array está certo:\n",
    "zoo_dfver=pd.DataFrame(zoo_array)\n",
    "zoo_dfver;"
   ]
  },
  {
   "cell_type": "code",
   "execution_count": 12,
   "metadata": {},
   "outputs": [],
   "source": [
    "X=scale(zoo_array)\n",
    "classe= np.array(y.class_type)"
   ]
  },
  {
   "cell_type": "code",
   "execution_count": 13,
   "metadata": {},
   "outputs": [],
   "source": [
    "clustering = KMeans(n_clusters=7,random_state=14)\n",
    "KMmodelo   = clustering.fit(X)\n",
    "color_theme = np.array([\"darkgray\",\"darkblue\",\"red\",\"yellow\",\"pink\",\"magenta\",\"gray\"])"
   ]
  },
  {
   "cell_type": "code",
   "execution_count": 16,
   "metadata": {},
   "outputs": [
    {
     "ename": "IndexError",
     "evalue": "index 7 is out of bounds for axis 1 with size 7",
     "output_type": "error",
     "traceback": [
      "\u001b[1;31m---------------------------------------------------------------------------\u001b[0m",
      "\u001b[1;31mIndexError\u001b[0m                                Traceback (most recent call last)",
      "\u001b[1;32m<ipython-input-16-4360048055cf>\u001b[0m in \u001b[0;36m<module>\u001b[1;34m\u001b[0m\n\u001b[0;32m      1\u001b[0m \u001b[0mplt\u001b[0m\u001b[1;33m.\u001b[0m\u001b[0msubplot\u001b[0m\u001b[1;33m(\u001b[0m\u001b[1;36m1\u001b[0m\u001b[1;33m,\u001b[0m\u001b[1;36m2\u001b[0m\u001b[1;33m,\u001b[0m\u001b[1;36m1\u001b[0m\u001b[1;33m)\u001b[0m\u001b[1;33m;\u001b[0m\u001b[1;33m\u001b[0m\u001b[1;33m\u001b[0m\u001b[0m\n\u001b[1;32m----> 2\u001b[1;33m \u001b[0mplt\u001b[0m\u001b[1;33m.\u001b[0m\u001b[0mscatter\u001b[0m\u001b[1;33m(\u001b[0m\u001b[0mzoo\u001b[0m\u001b[1;33m.\u001b[0m\u001b[0mhair\u001b[0m\u001b[1;33m,\u001b[0m\u001b[0mzoo\u001b[0m\u001b[1;33m.\u001b[0m\u001b[0mmilk\u001b[0m\u001b[1;33m,\u001b[0m\u001b[0mc\u001b[0m\u001b[1;33m=\u001b[0m\u001b[0mcolor_theme\u001b[0m\u001b[1;33m[\u001b[0m\u001b[0mclasse\u001b[0m\u001b[1;33m]\u001b[0m\u001b[1;33m,\u001b[0m\u001b[0ms\u001b[0m\u001b[1;33m=\u001b[0m\u001b[1;36m15\u001b[0m\u001b[1;33m)\u001b[0m\u001b[1;33m;\u001b[0m\u001b[1;33m\u001b[0m\u001b[1;33m\u001b[0m\u001b[0m\n\u001b[0m\u001b[0;32m      3\u001b[0m \u001b[1;31m#s indica o tamanho da bolinha\u001b[0m\u001b[1;33m\u001b[0m\u001b[1;33m\u001b[0m\u001b[1;33m\u001b[0m\u001b[0m\n",
      "\u001b[1;31mIndexError\u001b[0m: index 7 is out of bounds for axis 1 with size 7"
     ]
    },
    {
     "data": {
      "image/png": "[encoded data removed]",
      "text/plain": [
       "<Figure size 432x288 with 1 Axes>"
      ]
     },
     "metadata": {
      "needs_background": "light"
     },
     "output_type": "display_data"
    }
   ],
   "source": [
    "plt.subplot(1,2,1);\n",
    "plt.scatter(zoo.hair,zoo.milk,c=color_theme[classe],s=15)\n",
    "#s indica o tamanho da bolinha"
   ]
  },
  {
   "cell_type": "code",
   "execution_count": 31,
   "metadata": {},
   "outputs": [
    {
     "data": {
      "image/png": "[encoded data removed]",
      "text/plain": [
       "<Figure size 432x288 with 2 Axes>"
      ]
     },
     "metadata": {
      "needs_background": "light"
     },
     "output_type": "display_data"
    }
   ],
   "source": [
    "plt.subplot(2,2,1);\n",
    "plt.scatter(zoo.milk,zoo.hair)\n",
    "plt.xlabel(\"Leite\")\n",
    "plt.ylabel(\"Pelos\")\n",
    "plt.subplot(2,2,3);\n",
    "plt.scatter(zoo.milk,zoo.feathers)\n",
    "plt.xlabel(\"Leite\")\n",
    "plt.ylabel(\"Penas\")\n",
    "plt.show();"
   ]
  },
  {
   "cell_type": "markdown",
   "metadata": {},
   "source": [
    "### Conclusão:\n",
    "<p>É impossivel gerar scatter plots e portanto fazer clusterização dos dados de nosso data frame pois os nossos dados são em esmagadora maioria(1 exceção em 16) de ordem binária e portanto todos os nossos plots que não tenham o número de patas (a exceção quanto a ser binário) serão como o dos gráficos acima(ou triangulares ou quadrados).</p> \n",
    "<p>Esses gráficos basicamente dizem que existem 4 tipos de animais (os que possuem as características A e B, os que possuem apenas uma delas e os que não possuem nenhuma delas, a ausência do quarto ponto no segundo gráfico (Penas por Leite) nos diz que nenhum animal possui ao mesmo tempo penas e leite.</p>\n",
    " <p>O problema que impede a viabilidade do uso de cluster nesse caso é que o classificador considera que todos os animais que nem tem penas e nem amamentam como um mesmo grupo, mostrando como resultado que uma carpa pertence a mesma classe de um sapo pois eles não possuem penas e nem amamentam, no entato essa informação difere do que sabemos na realidade e dos dados coletados, que nos informam que sapos são anfíbios e carpas são peixes</p>"
   ]
  },
  {
   "cell_type": "code",
   "execution_count": null,
   "metadata": {},
   "outputs": [],
   "source": []
  }
 ],
 "metadata": {
  "kernelspec": {
   "display_name": "Python 3",
   "language": "python",
   "name": "python3"
  },
  "language_info": {
   "codemirror_mode": {
    "name": "ipython",
    "version": 3
   },
   "file_extension": ".py",
   "mimetype": "text/x-python",
   "name": "python",
   "nbconvert_exporter": "python",
   "pygments_lexer": "ipython3",
   "version": "3.7.1"
  }
 },
 "nbformat": 4,
 "nbformat_minor": 2
}
