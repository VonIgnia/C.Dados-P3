{
 "cells": [
  {
   "cell_type": "code",
   "execution_count": 9,
   "metadata": {},
   "outputs": [],
   "source": [
    "def SplitDataset(dataset,proporçãoDeSplit):\n",
    "    tamanhoTreino= int(len(dataset)*proporçãoDeSplit)\n",
    "    setTreino=[]\n",
    "    copia= list(dataset)\n",
    "    while len(setTreino)<tamanhoTreino:\n",
    "        index=random.randrange(len(copy))\n",
    "        setTreino.append(copy.pop(index))\n",
    "    return (setTreino,copia)"
   ]
  },
  {
   "cell_type": "markdown",
   "metadata": {},
   "source": [
    "Colocar em um notebook"
   ]
  },
  {
   "cell_type": "code",
   "execution_count": 3,
   "metadata": {},
   "outputs": [],
   "source": [
    "def Validação(tipo):\n",
    "    model = tipo()\n",
    "    model.fit(inputs,target);\n",
    "    model.score(inputs,target);\n",
    "    \n",
    "    acertos=0\n",
    "    for i in range(len(zoo)):\n",
    "        if (model.predict([inputs.iloc[i]])[0])==(zoo.iloc[i]['class_type']):\n",
    "            acertos+=1\n",
    "        else:\n",
    "            print('Error',zoo.iloc[i]['animal_name'])\n",
    "    print()\n",
    "    print('Numero de acertos:',acertos)\n",
    "    print(\"Número de erros: \",(len(zoo)-acertos))\n",
    "    print('Porcentagem de acertos: {:.2f}%'.format(acertos/len(zoo)*100) )\n",
    "    plt.pie([acertos,len(zoo)-acertos], explode=[1,-.95], labels=[None,'Erros'], \n",
    "            colors=[\"#98FB98\",\"#0B6623\"]);"
   ]
  },
  {
   "cell_type": "markdown",
   "metadata": {},
   "source": [
    "## Projeto 3 C.Dados\n",
    "\n",
    "- Daniel Gurgel Terra\n",
    "- Giovanni Rozatti\n",
    "- Rafael Zanfollin"
   ]
  },
  {
   "cell_type": "markdown",
   "metadata": {},
   "source": [
    "**Método de classificação nesse Notebook:** Multinomial NB, Gaussian NB, Bernoulli NB"
   ]
  },
  {
   "cell_type": "code",
   "execution_count": 4,
   "metadata": {},
   "outputs": [],
   "source": [
    "from sklearn.naive_bayes import BernoulliNB\n",
    "from sklearn.naive_bayes import GaussianNB\n",
    "from sklearn.naive_bayes import MultinomialNB\n",
    "import matplotlib.pyplot as plt\n",
    "import pandas as pd"
   ]
  },
  {
   "cell_type": "code",
   "execution_count": 5,
   "metadata": {},
   "outputs": [],
   "source": [
    "# importando nosso dataset;\n",
    "zoo = pd.read_csv(\".\\Data\\zoo.csv\")     \n",
    "# características dos animais para o teste;\n",
    "inputs = zoo.drop(columns=[\"class_type\",\"animal_name\"])\n",
    "# resultado esperado;\n",
    "target = zoo[\"class_type\"]"
   ]
  },
  {
   "cell_type": "code",
   "execution_count": 6,
   "metadata": {},
   "outputs": [
    {
     "name": "stdout",
     "output_type": "stream",
     "text": [
      "Error newt\n",
      "Error jabuti\n",
      "Error tracaja\n",
      "Error bicho-pau\n",
      "Error caranguejeira\n",
      "Error sauva-limao\n",
      "\n",
      "Numero de acertos: 208\n",
      "Número de erros:  6\n",
      "Porcentagem de acertos: 97.20%\n"
     ]
    },
    {
     "data": {
      "image/png": "[encoded data removed]",
      "text/plain": [
       "<Figure size 432x288 with 1 Axes>"
      ]
     },
     "metadata": {},
     "output_type": "display_data"
    }
   ],
   "source": [
    "Validação(BernoulliNB)"
   ]
  },
  {
   "cell_type": "code",
   "execution_count": 22,
   "metadata": {},
   "outputs": [
    {
     "name": "stdout",
     "output_type": "stream",
     "text": [
      "Error turtle\n",
      "Error crocodile\n",
      "Error alligator\n",
      "Error gharial\n",
      "Error jabuti\n",
      "Error jacare-coroa\n",
      "Error tracaja\n",
      "Error bicho-pau\n",
      "Error sauva-limao\n",
      "\n",
      "Numero de acertos: 205\n",
      "Número de erros:  9\n",
      "Porcentagem de acertos: 95.79%\n"
     ]
    },
    {
     "data": {
      "image/png": "[encoded data removed]",
      "text/plain": [
       "<Figure size 432x288 with 1 Axes>"
      ]
     },
     "metadata": {},
     "output_type": "display_data"
    }
   ],
   "source": [
    "Validação(GaussianNB)"
   ]
  },
  {
   "cell_type": "code",
   "execution_count": 23,
   "metadata": {},
   "outputs": [
    {
     "name": "stdout",
     "output_type": "stream",
     "text": [
      "Error clam\n",
      "Error dolphin\n",
      "Error newt\n",
      "Error porpoise\n",
      "Error seasnake\n",
      "Error slug\n",
      "Error tortoise\n",
      "Error worm\n",
      "Error salamander\n",
      "Error siren\n",
      "Error scallop\n",
      "Error snail\n",
      "Error silkworm\n",
      "Error jellyfish\n",
      "Error squid\n",
      "Error boto-cor-de-rosa\n",
      "Error jabuti\n",
      "Error tracaja\n",
      "Error sapo-de-chifre\n",
      "Error bicho-pau\n",
      "Error caracol-da-mata-atlantica\n",
      "Error caranguejeira\n",
      "Error sauva-limao\n",
      "\n",
      "Numero de acertos: 191\n",
      "Número de erros:  23\n",
      "Porcentagem de acertos: 89.25%\n"
     ]
    },
    {
     "data": {
      "image/png": "[encoded data removed]",
      "text/plain": [
       "<Figure size 432x288 with 1 Axes>"
      ]
     },
     "metadata": {},
     "output_type": "display_data"
    }
   ],
   "source": [
    "Validação(MultinomialNB)"
   ]
  },
  {
   "cell_type": "markdown",
   "metadata": {},
   "source": [
    " "
   ]
  }
 ],
 "metadata": {
  "kernelspec": {
   "display_name": "Python 3",
   "language": "python",
   "name": "python3"
  },
  "language_info": {
   "codemirror_mode": {
    "name": "ipython",
    "version": 3
   },
   "file_extension": ".py",
   "mimetype": "text/x-python",
   "name": "python",
   "nbconvert_exporter": "python",
   "pygments_lexer": "ipython3",
   "version": "3.7.1"
  }
 },
 "nbformat": 4,
 "nbformat_minor": 2
}
